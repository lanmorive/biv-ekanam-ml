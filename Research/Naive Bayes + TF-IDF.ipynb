{
 "cells": [
  {
   "cell_type": "markdown",
   "id": "e012b350-1136-4e91-821f-0ba652629fb2",
   "metadata": {},
   "source": [
    "# Загрузка данных"
   ]
  },
  {
   "cell_type": "code",
   "execution_count": 1,
   "id": "5c291199-7db7-4de4-8a02-6712b707cd7f",
   "metadata": {},
   "outputs": [],
   "source": [
    "import pandas as pd"
   ]
  },
  {
   "cell_type": "code",
   "execution_count": 2,
   "id": "814a42a3-bd7d-4fba-837b-6e3e768c7882",
   "metadata": {},
   "outputs": [],
   "source": [
    "df = pd.read_csv('../data/train.csv').drop(columns=['index'])"
   ]
  },
  {
   "cell_type": "code",
   "execution_count": 3,
   "id": "43787eb6-349e-43cd-9569-1aea828ad0b8",
   "metadata": {},
   "outputs": [],
   "source": [
    "df['class'] = pd.Categorical(df['class'])"
   ]
  },
  {
   "cell_type": "code",
   "execution_count": 4,
   "id": "7175d423-3c12-4dd9-bc49-b69781cc6ee4",
   "metadata": {},
   "outputs": [
    {
     "data": {
      "text/html": [
       "<div>\n",
       "<style scoped>\n",
       "    .dataframe tbody tr th:only-of-type {\n",
       "        vertical-align: middle;\n",
       "    }\n",
       "\n",
       "    .dataframe tbody tr th {\n",
       "        vertical-align: top;\n",
       "    }\n",
       "\n",
       "    .dataframe thead th {\n",
       "        text-align: right;\n",
       "    }\n",
       "</style>\n",
       "<table border=\"1\" class=\"dataframe\">\n",
       "  <thead>\n",
       "    <tr style=\"text-align: right;\">\n",
       "      <th></th>\n",
       "      <th>text</th>\n",
       "      <th>class</th>\n",
       "    </tr>\n",
       "  </thead>\n",
       "  <tbody>\n",
       "    <tr>\n",
       "      <th>0</th>\n",
       "      <td>Выплата на содержание родных детей</td>\n",
       "      <td>TAX</td>\n",
       "    </tr>\n",
       "    <tr>\n",
       "      <th>1</th>\n",
       "      <td>Оплата за Бритва Gillette Blue II Plus однораз...</td>\n",
       "      <td>NON_FOOD_GOODS</td>\n",
       "    </tr>\n",
       "    <tr>\n",
       "      <th>2</th>\n",
       "      <td>Паевой взнос в жилищно-строительный кооператив...</td>\n",
       "      <td>REALE_STATE</td>\n",
       "    </tr>\n",
       "  </tbody>\n",
       "</table>\n",
       "</div>"
      ],
      "text/plain": [
       "                                                text           class\n",
       "0                 Выплата на содержание родных детей             TAX\n",
       "1  Оплата за Бритва Gillette Blue II Plus однораз...  NON_FOOD_GOODS\n",
       "2  Паевой взнос в жилищно-строительный кооператив...     REALE_STATE"
      ]
     },
     "execution_count": 4,
     "metadata": {},
     "output_type": "execute_result"
    }
   ],
   "source": [
    "df.head(3)"
   ]
  },
  {
   "cell_type": "markdown",
   "id": "5afad806-22f0-4745-827e-40814cdf0fee",
   "metadata": {},
   "source": [
    "## Очистка датасета"
   ]
  },
  {
   "cell_type": "code",
   "execution_count": 5,
   "id": "2192058d-3b84-48de-82b1-c7f84b03216c",
   "metadata": {},
   "outputs": [
    {
     "name": "stdout",
     "output_type": "stream",
     "text": [
      "Collecting natasha\n",
      "  Obtaining dependency information for natasha from https://files.pythonhosted.org/packages/32/9c/bb9d33c13564bcc939bb727087ef51b16ed3b49cc3b8fdec07c87b02f1de/natasha-1.6.0-py3-none-any.whl.metadata\n",
      "  Downloading natasha-1.6.0-py3-none-any.whl.metadata (23 kB)\n",
      "Collecting pymorphy2 (from natasha)\n",
      "  Obtaining dependency information for pymorphy2 from https://files.pythonhosted.org/packages/07/57/b2ff2fae3376d4f3c697b9886b64a54b476e1a332c67eee9f88e7f1ae8c9/pymorphy2-0.9.1-py3-none-any.whl.metadata\n",
      "  Downloading pymorphy2-0.9.1-py3-none-any.whl.metadata (3.6 kB)\n",
      "Collecting razdel>=0.5.0 (from natasha)\n",
      "  Obtaining dependency information for razdel>=0.5.0 from https://files.pythonhosted.org/packages/15/2c/664223a3924aa6e70479f7d37220b3a658765b9cfe760b4af7ffdc50d38f/razdel-0.5.0-py3-none-any.whl.metadata\n",
      "  Downloading razdel-0.5.0-py3-none-any.whl.metadata (10.0 kB)\n",
      "Collecting navec>=0.9.0 (from natasha)\n",
      "  Obtaining dependency information for navec>=0.9.0 from https://files.pythonhosted.org/packages/bc/c1/771ec5565f0ce24874d7fd325b429f9caa80517a40d2e4ce5705120591f3/navec-0.10.0-py3-none-any.whl.metadata\n",
      "  Downloading navec-0.10.0-py3-none-any.whl.metadata (21 kB)\n",
      "Collecting slovnet>=0.6.0 (from natasha)\n",
      "  Obtaining dependency information for slovnet>=0.6.0 from https://files.pythonhosted.org/packages/7c/32/d5aff64e3d51ec4021674215680f16b7d2907860c6443b0d058579ac7d59/slovnet-0.6.0-py3-none-any.whl.metadata\n",
      "  Downloading slovnet-0.6.0-py3-none-any.whl.metadata (34 kB)\n",
      "Collecting yargy>=0.16.0 (from natasha)\n",
      "  Obtaining dependency information for yargy>=0.16.0 from https://files.pythonhosted.org/packages/b7/55/d065a9812c619889fbe01a1863743ee45f7c60c462fc95b19576972ee9e4/yargy-0.16.0-py3-none-any.whl.metadata\n",
      "  Downloading yargy-0.16.0-py3-none-any.whl.metadata (3.5 kB)\n",
      "Collecting ipymarkup>=0.8.0 (from natasha)\n",
      "  Obtaining dependency information for ipymarkup>=0.8.0 from https://files.pythonhosted.org/packages/bf/9b/bf54c98d50735a4a7c84c71e92c5361730c878ebfe903d2c2d196ef66055/ipymarkup-0.9.0-py3-none-any.whl.metadata\n",
      "  Downloading ipymarkup-0.9.0-py3-none-any.whl.metadata (5.6 kB)\n",
      "Requirement already satisfied: intervaltree>=3 in c:\\users\\lanmo\\anaconda3\\lib\\site-packages (from ipymarkup>=0.8.0->natasha) (3.1.0)\n",
      "Requirement already satisfied: numpy in c:\\users\\lanmo\\anaconda3\\lib\\site-packages (from navec>=0.9.0->natasha) (1.26.4)\n",
      "Collecting dawg-python>=0.7.1 (from pymorphy2->natasha)\n",
      "  Obtaining dependency information for dawg-python>=0.7.1 from https://files.pythonhosted.org/packages/6a/84/ff1ce2071d4c650ec85745766c0047ccc3b5036f1d03559fd46bb38b5eeb/DAWG_Python-0.7.2-py2.py3-none-any.whl.metadata\n",
      "  Downloading DAWG_Python-0.7.2-py2.py3-none-any.whl.metadata (7.0 kB)\n",
      "Collecting pymorphy2-dicts-ru<3.0,>=2.4 (from pymorphy2->natasha)\n",
      "  Obtaining dependency information for pymorphy2-dicts-ru<3.0,>=2.4 from https://files.pythonhosted.org/packages/3a/79/bea0021eeb7eeefde22ef9e96badf174068a2dd20264b9a378f2be1cdd9e/pymorphy2_dicts_ru-2.4.417127.4579844-py2.py3-none-any.whl.metadata\n",
      "  Downloading pymorphy2_dicts_ru-2.4.417127.4579844-py2.py3-none-any.whl.metadata (2.1 kB)\n",
      "Requirement already satisfied: docopt>=0.6 in c:\\users\\lanmo\\anaconda3\\lib\\site-packages (from pymorphy2->natasha) (0.6.2)\n",
      "Requirement already satisfied: sortedcontainers<3.0,>=2.0 in c:\\users\\lanmo\\anaconda3\\lib\\site-packages (from intervaltree>=3->ipymarkup>=0.8.0->natasha) (2.4.0)\n",
      "Downloading natasha-1.6.0-py3-none-any.whl (34.4 MB)\n",
      "   ---------------------------------------- 0.0/34.4 MB ? eta -:--:--\n",
      "   ---------------------------------------- 0.2/34.4 MB 4.0 MB/s eta 0:00:09\n",
      "    --------------------------------------- 0.6/34.4 MB 6.2 MB/s eta 0:00:06\n",
      "   - -------------------------------------- 0.9/34.4 MB 7.2 MB/s eta 0:00:05\n",
      "   - -------------------------------------- 1.3/34.4 MB 7.1 MB/s eta 0:00:05\n",
      "   -- ------------------------------------- 1.8/34.4 MB 7.8 MB/s eta 0:00:05\n",
      "   -- ------------------------------------- 2.3/34.4 MB 8.7 MB/s eta 0:00:04\n",
      "   --- ------------------------------------ 3.0/34.4 MB 9.0 MB/s eta 0:00:04\n",
      "   ---- ----------------------------------- 3.6/34.4 MB 9.6 MB/s eta 0:00:04\n",
      "   ----- ---------------------------------- 4.4/34.4 MB 10.3 MB/s eta 0:00:03\n",
      "   ----- ---------------------------------- 5.0/34.4 MB 10.7 MB/s eta 0:00:03\n",
      "   ------ --------------------------------- 5.8/34.4 MB 11.7 MB/s eta 0:00:03\n",
      "   ------- -------------------------------- 6.7/34.4 MB 12.2 MB/s eta 0:00:03\n",
      "   -------- ------------------------------- 7.5/34.4 MB 12.7 MB/s eta 0:00:03\n",
      "   --------- ------------------------------ 7.9/34.4 MB 12.7 MB/s eta 0:00:03\n",
      "   ---------- ----------------------------- 9.1/34.4 MB 13.2 MB/s eta 0:00:02\n",
      "   ----------- ---------------------------- 9.8/34.4 MB 13.1 MB/s eta 0:00:02\n",
      "   ------------ --------------------------- 10.7/34.4 MB 14.2 MB/s eta 0:00:02\n",
      "   ------------- -------------------------- 11.6/34.4 MB 16.0 MB/s eta 0:00:02\n",
      "   -------------- ------------------------- 12.4/34.4 MB 16.8 MB/s eta 0:00:02\n",
      "   -------------- ------------------------- 12.9/34.4 MB 16.8 MB/s eta 0:00:02\n",
      "   ---------------- ----------------------- 13.8/34.4 MB 17.3 MB/s eta 0:00:02\n",
      "   ----------------- ---------------------- 14.7/34.4 MB 17.2 MB/s eta 0:00:02\n",
      "   ----------------- ---------------------- 15.4/34.4 MB 17.2 MB/s eta 0:00:02\n",
      "   ------------------- -------------------- 16.3/34.4 MB 17.7 MB/s eta 0:00:02\n",
      "   ------------------- -------------------- 17.1/34.4 MB 17.2 MB/s eta 0:00:02\n",
      "   -------------------- ------------------- 17.9/34.4 MB 17.2 MB/s eta 0:00:01\n",
      "   --------------------- ------------------ 18.7/34.4 MB 17.2 MB/s eta 0:00:01\n",
      "   ---------------------- ----------------- 19.5/34.4 MB 17.3 MB/s eta 0:00:01\n",
      "   ----------------------- ---------------- 20.2/34.4 MB 17.3 MB/s eta 0:00:01\n",
      "   ------------------------ --------------- 20.7/34.4 MB 16.8 MB/s eta 0:00:01\n",
      "   ------------------------ --------------- 21.2/34.4 MB 16.4 MB/s eta 0:00:01\n",
      "   ------------------------- -------------- 22.0/34.4 MB 16.0 MB/s eta 0:00:01\n",
      "   -------------------------- ------------- 22.8/34.4 MB 16.4 MB/s eta 0:00:01\n",
      "   --------------------------- ------------ 23.4/34.4 MB 16.4 MB/s eta 0:00:01\n",
      "   --------------------------- ------------ 23.9/34.4 MB 16.0 MB/s eta 0:00:01\n",
      "   ---------------------------- ----------- 24.3/34.4 MB 15.2 MB/s eta 0:00:01\n",
      "   ----------------------------- ---------- 25.0/34.4 MB 14.9 MB/s eta 0:00:01\n",
      "   ----------------------------- ---------- 25.7/34.4 MB 14.6 MB/s eta 0:00:01\n",
      "   ------------------------------ --------- 26.4/34.4 MB 14.6 MB/s eta 0:00:01\n",
      "   ------------------------------- -------- 27.1/34.4 MB 14.2 MB/s eta 0:00:01\n",
      "   -------------------------------- ------- 27.8/34.4 MB 14.2 MB/s eta 0:00:01\n",
      "   --------------------------------- ------ 28.5/34.4 MB 13.9 MB/s eta 0:00:01\n",
      "   --------------------------------- ------ 29.2/34.4 MB 14.2 MB/s eta 0:00:01\n",
      "   ---------------------------------- ----- 30.0/34.4 MB 13.9 MB/s eta 0:00:01\n",
      "   ----------------------------------- ---- 30.7/34.4 MB 14.2 MB/s eta 0:00:01\n",
      "   ------------------------------------ --- 31.3/34.4 MB 14.2 MB/s eta 0:00:01\n",
      "   ------------------------------------- -- 31.9/34.4 MB 14.6 MB/s eta 0:00:01\n",
      "   -------------------------------------- - 32.7/34.4 MB 14.2 MB/s eta 0:00:01\n",
      "   -------------------------------------- - 33.4/34.4 MB 14.2 MB/s eta 0:00:01\n",
      "   ---------------------------------------  34.2/34.4 MB 14.9 MB/s eta 0:00:01\n",
      "   ---------------------------------------  34.4/34.4 MB 14.9 MB/s eta 0:00:01\n",
      "   ---------------------------------------  34.4/34.4 MB 14.9 MB/s eta 0:00:01\n",
      "   ---------------------------------------  34.4/34.4 MB 14.9 MB/s eta 0:00:01\n",
      "   ---------------------------------------  34.4/34.4 MB 14.9 MB/s eta 0:00:01\n",
      "   ---------------------------------------- 34.4/34.4 MB 11.7 MB/s eta 0:00:00\n",
      "Downloading ipymarkup-0.9.0-py3-none-any.whl (14 kB)\n",
      "Downloading navec-0.10.0-py3-none-any.whl (23 kB)\n",
      "Downloading razdel-0.5.0-py3-none-any.whl (21 kB)\n",
      "Downloading slovnet-0.6.0-py3-none-any.whl (46 kB)\n",
      "   ---------------------------------------- 0.0/46.7 kB ? eta -:--:--\n",
      "   ---------------------------------------- 46.7/46.7 kB 2.3 MB/s eta 0:00:00\n",
      "Downloading yargy-0.16.0-py3-none-any.whl (33 kB)\n",
      "Downloading pymorphy2-0.9.1-py3-none-any.whl (55 kB)\n",
      "   ---------------------------------------- 0.0/55.5 kB ? eta -:--:--\n",
      "   ---------------------------------------- 55.5/55.5 kB 2.8 MB/s eta 0:00:00\n",
      "Downloading DAWG_Python-0.7.2-py2.py3-none-any.whl (11 kB)\n",
      "Downloading pymorphy2_dicts_ru-2.4.417127.4579844-py2.py3-none-any.whl (8.2 MB)\n",
      "   ---------------------------------------- 0.0/8.2 MB ? eta -:--:--\n",
      "   -- ------------------------------------- 0.6/8.2 MB 17.3 MB/s eta 0:00:01\n",
      "   ------ --------------------------------- 1.3/8.2 MB 16.5 MB/s eta 0:00:01\n",
      "   --------- ------------------------------ 2.0/8.2 MB 16.1 MB/s eta 0:00:01\n",
      "   ------------- -------------------------- 2.8/8.2 MB 16.2 MB/s eta 0:00:01\n",
      "   ---------------- ----------------------- 3.5/8.2 MB 15.9 MB/s eta 0:00:01\n",
      "   ------------------- -------------------- 4.0/8.2 MB 16.0 MB/s eta 0:00:01\n",
      "   ----------------------- ---------------- 4.7/8.2 MB 15.1 MB/s eta 0:00:01\n",
      "   -------------------------- ------------- 5.5/8.2 MB 15.3 MB/s eta 0:00:01\n",
      "   ------------------------------- -------- 6.4/8.2 MB 15.8 MB/s eta 0:00:01\n",
      "   ----------------------------------- ---- 7.2/8.2 MB 15.9 MB/s eta 0:00:01\n",
      "   -------------------------------------- - 7.9/8.2 MB 16.3 MB/s eta 0:00:01\n",
      "   ---------------------------------------  8.2/8.2 MB 15.9 MB/s eta 0:00:01\n",
      "   ---------------------------------------- 8.2/8.2 MB 14.6 MB/s eta 0:00:00\n",
      "Installing collected packages: razdel, pymorphy2-dicts-ru, dawg-python, pymorphy2, navec, yargy, slovnet, ipymarkup, natasha\n",
      "Successfully installed dawg-python-0.7.2 ipymarkup-0.9.0 natasha-1.6.0 navec-0.10.0 pymorphy2-0.9.1 pymorphy2-dicts-ru-2.4.417127.4579844 razdel-0.5.0 slovnet-0.6.0 yargy-0.16.0\n"
     ]
    }
   ],
   "source": [
    "!pip install natasha"
   ]
  },
  {
   "cell_type": "code",
   "execution_count": 6,
   "id": "d0920792-47c1-441e-880c-3668b047e726",
   "metadata": {},
   "outputs": [],
   "source": [
    "from natasha import Doc, Segmenter, MorphVocab\n",
    "from natasha import NewsEmbedding, NewsMorphTagger\n",
    "import re\n",
    "import string\n",
    "from nltk.tokenize import word_tokenize\n",
    "from nltk.corpus import stopwords"
   ]
  },
  {
   "cell_type": "code",
   "execution_count": 7,
   "id": "a707c686-7152-4e80-b3b8-666228aa60ba",
   "metadata": {},
   "outputs": [],
   "source": [
    "\n",
    "# Инициализация компонентов Natasha\n",
    "segmenter = Segmenter()\n",
    "morph_vocab = MorphVocab()\n",
    "emb = NewsEmbedding()\n",
    "morph_tagger = NewsMorphTagger(emb)\n",
    "\n",
    "# Список месяцев\n",
    "months = [\n",
    "    \"январь\", \"февраль\", \"март\", \"апрель\", \"май\", \"июнь\",\n",
    "    \"июль\", \"август\", \"сентябрь\", \"октябрь\", \"ноябрь\", \"декабрь\"\n",
    "]\n",
    "\n",
    "# Стоп-слова\n",
    "russian_stopwords = set(stopwords.words(\"russian\"))\n",
    "russian_stopwords.discard('за')  # Убираем из стоп-слов \"за\"\n",
    "russian_stopwords.update(['кг', 'сумма', 'тч', 'мл', 'счёт'])  # Добавляем свои слова\n",
    "\n",
    "# Функция очистки текста\n",
    "def clean_text(text, russian_stopwords, segmenter, morph_vocab, morph_tagger, months):\n",
    "    # Удаляем даты из текста\n",
    "    date_pattern = r\"(\\d{0,4}[./-]?)\"\n",
    "    cleaned_text = re.sub(date_pattern, \"\", text)\n",
    "    \n",
    "    # Токенизация и удаление стоп-слов\n",
    "    tokens = word_tokenize(cleaned_text.lower())\n",
    "    tokens = [token for token in tokens if token not in russian_stopwords]\n",
    "    tokens = [token for token in tokens if token not in string.punctuation]\n",
    "    cleaned_text = ' '.join(tokens)\n",
    "    \n",
    "    # Используем Natasha для морфологической обработки\n",
    "    doc = Doc(cleaned_text)\n",
    "    doc.segment(segmenter)\n",
    "    doc.tag_morph(morph_tagger)\n",
    "    \n",
    "    # Лемматизация\n",
    "    for token in doc.tokens:\n",
    "        token.lemmatize(morph_vocab)\n",
    "    \n",
    "    # Убираем месяцы и короткие слова\n",
    "    lemmas = [token.lemma for token in doc.tokens if token.lemma not in months and len(token.lemma) > 1]\n",
    "    \n",
    "    return ' '.join(lemmas)"
   ]
  },
  {
   "cell_type": "code",
   "execution_count": 9,
   "id": "02ba8db0-cb10-4d55-9689-8ee47c662095",
   "metadata": {},
   "outputs": [
    {
     "data": {
      "text/plain": [
       "0                      выплата содержание родный ребенок\n",
       "1      оплата за бритва gillette blue ii plus однораз...\n",
       "2      паевой взнос жилищностроительный кооператив це...\n",
       "3        за доставка жд транспорт одинцово бийск договор\n",
       "4                          за юридический услуга договор\n",
       "                             ...                        \n",
       "395              оплата за восточный сладость халва счет\n",
       "396    за транспортировка перевозка железный дорога б...\n",
       "397                    оплата дог за гсоглсч счетфактура\n",
       "398    оплата за масло оливковый global village class...\n",
       "399       оплата за крем универсальный evo пантенол счет\n",
       "Name: clean_text, Length: 400, dtype: object"
      ]
     },
     "execution_count": 9,
     "metadata": {},
     "output_type": "execute_result"
    }
   ],
   "source": [
    "df['clean_text'] = df['text'].apply(lambda x: clean_text(x,russian_stopwords, segmenter, morph_vocab, morph_tagger, months))\n",
    "df['clean_text']"
   ]
  },
  {
   "cell_type": "markdown",
   "id": "abd73578-06c7-43ab-a180-0af04f41765c",
   "metadata": {},
   "source": [
    "# Наивный байесовский классификатор"
   ]
  },
  {
   "cell_type": "code",
   "execution_count": 10,
   "id": "65cbdca0-e898-477e-8d5a-aab041868786",
   "metadata": {},
   "outputs": [],
   "source": [
    "from sklearn.naive_bayes import MultinomialNB\n",
    "from sklearn.model_selection import train_test_split\n",
    "from sklearn.feature_extraction.text import TfidfVectorizer\n",
    "\n",
    "from sklearn.metrics import accuracy_score, f1_score"
   ]
  },
  {
   "cell_type": "code",
   "execution_count": 11,
   "id": "bed5b94b-8b97-45cd-8a3b-7fda2dbd3b0c",
   "metadata": {},
   "outputs": [],
   "source": [
    "vectorizer = TfidfVectorizer()"
   ]
  },
  {
   "cell_type": "markdown",
   "id": "35eff8fc-dd47-4cc8-a2ad-1a76c30d28e0",
   "metadata": {},
   "source": [
    "### На грязном тексте"
   ]
  },
  {
   "cell_type": "code",
   "execution_count": 12,
   "id": "e0bb4183-64a7-4434-be4d-35d2e3639419",
   "metadata": {},
   "outputs": [],
   "source": [
    "X = vectorizer.fit_transform(df.text.tolist())\n",
    "y = df['class']"
   ]
  },
  {
   "cell_type": "code",
   "execution_count": 13,
   "id": "4bcb8664-6e28-44a5-888e-c8dbc5478b07",
   "metadata": {},
   "outputs": [],
   "source": [
    "X_train, X_test, y_train, y_test = train_test_split(X, y, test_size=0.2, random_state=42)"
   ]
  },
  {
   "cell_type": "code",
   "execution_count": 14,
   "id": "08c56bb9-f449-4441-bbff-53fcb872b694",
   "metadata": {},
   "outputs": [
    {
     "data": {
      "text/html": [
       "<style>#sk-container-id-1 {color: black;background-color: white;}#sk-container-id-1 pre{padding: 0;}#sk-container-id-1 div.sk-toggleable {background-color: white;}#sk-container-id-1 label.sk-toggleable__label {cursor: pointer;display: block;width: 100%;margin-bottom: 0;padding: 0.3em;box-sizing: border-box;text-align: center;}#sk-container-id-1 label.sk-toggleable__label-arrow:before {content: \"▸\";float: left;margin-right: 0.25em;color: #696969;}#sk-container-id-1 label.sk-toggleable__label-arrow:hover:before {color: black;}#sk-container-id-1 div.sk-estimator:hover label.sk-toggleable__label-arrow:before {color: black;}#sk-container-id-1 div.sk-toggleable__content {max-height: 0;max-width: 0;overflow: hidden;text-align: left;background-color: #f0f8ff;}#sk-container-id-1 div.sk-toggleable__content pre {margin: 0.2em;color: black;border-radius: 0.25em;background-color: #f0f8ff;}#sk-container-id-1 input.sk-toggleable__control:checked~div.sk-toggleable__content {max-height: 200px;max-width: 100%;overflow: auto;}#sk-container-id-1 input.sk-toggleable__control:checked~label.sk-toggleable__label-arrow:before {content: \"▾\";}#sk-container-id-1 div.sk-estimator input.sk-toggleable__control:checked~label.sk-toggleable__label {background-color: #d4ebff;}#sk-container-id-1 div.sk-label input.sk-toggleable__control:checked~label.sk-toggleable__label {background-color: #d4ebff;}#sk-container-id-1 input.sk-hidden--visually {border: 0;clip: rect(1px 1px 1px 1px);clip: rect(1px, 1px, 1px, 1px);height: 1px;margin: -1px;overflow: hidden;padding: 0;position: absolute;width: 1px;}#sk-container-id-1 div.sk-estimator {font-family: monospace;background-color: #f0f8ff;border: 1px dotted black;border-radius: 0.25em;box-sizing: border-box;margin-bottom: 0.5em;}#sk-container-id-1 div.sk-estimator:hover {background-color: #d4ebff;}#sk-container-id-1 div.sk-parallel-item::after {content: \"\";width: 100%;border-bottom: 1px solid gray;flex-grow: 1;}#sk-container-id-1 div.sk-label:hover label.sk-toggleable__label {background-color: #d4ebff;}#sk-container-id-1 div.sk-serial::before {content: \"\";position: absolute;border-left: 1px solid gray;box-sizing: border-box;top: 0;bottom: 0;left: 50%;z-index: 0;}#sk-container-id-1 div.sk-serial {display: flex;flex-direction: column;align-items: center;background-color: white;padding-right: 0.2em;padding-left: 0.2em;position: relative;}#sk-container-id-1 div.sk-item {position: relative;z-index: 1;}#sk-container-id-1 div.sk-parallel {display: flex;align-items: stretch;justify-content: center;background-color: white;position: relative;}#sk-container-id-1 div.sk-item::before, #sk-container-id-1 div.sk-parallel-item::before {content: \"\";position: absolute;border-left: 1px solid gray;box-sizing: border-box;top: 0;bottom: 0;left: 50%;z-index: -1;}#sk-container-id-1 div.sk-parallel-item {display: flex;flex-direction: column;z-index: 1;position: relative;background-color: white;}#sk-container-id-1 div.sk-parallel-item:first-child::after {align-self: flex-end;width: 50%;}#sk-container-id-1 div.sk-parallel-item:last-child::after {align-self: flex-start;width: 50%;}#sk-container-id-1 div.sk-parallel-item:only-child::after {width: 0;}#sk-container-id-1 div.sk-dashed-wrapped {border: 1px dashed gray;margin: 0 0.4em 0.5em 0.4em;box-sizing: border-box;padding-bottom: 0.4em;background-color: white;}#sk-container-id-1 div.sk-label label {font-family: monospace;font-weight: bold;display: inline-block;line-height: 1.2em;}#sk-container-id-1 div.sk-label-container {text-align: center;}#sk-container-id-1 div.sk-container {/* jupyter's `normalize.less` sets `[hidden] { display: none; }` but bootstrap.min.css set `[hidden] { display: none !important; }` so we also need the `!important` here to be able to override the default hidden behavior on the sphinx rendered scikit-learn.org. See: https://github.com/scikit-learn/scikit-learn/issues/21755 */display: inline-block !important;position: relative;}#sk-container-id-1 div.sk-text-repr-fallback {display: none;}</style><div id=\"sk-container-id-1\" class=\"sk-top-container\"><div class=\"sk-text-repr-fallback\"><pre>MultinomialNB()</pre><b>In a Jupyter environment, please rerun this cell to show the HTML representation or trust the notebook. <br />On GitHub, the HTML representation is unable to render, please try loading this page with nbviewer.org.</b></div><div class=\"sk-container\" hidden><div class=\"sk-item\"><div class=\"sk-estimator sk-toggleable\"><input class=\"sk-toggleable__control sk-hidden--visually\" id=\"sk-estimator-id-1\" type=\"checkbox\" checked><label for=\"sk-estimator-id-1\" class=\"sk-toggleable__label sk-toggleable__label-arrow\">MultinomialNB</label><div class=\"sk-toggleable__content\"><pre>MultinomialNB()</pre></div></div></div></div></div>"
      ],
      "text/plain": [
       "MultinomialNB()"
      ]
     },
     "execution_count": 14,
     "metadata": {},
     "output_type": "execute_result"
    }
   ],
   "source": [
    "nb_model = MultinomialNB()\n",
    "nb_model.fit(X_train, y_train)"
   ]
  },
  {
   "cell_type": "code",
   "execution_count": 15,
   "id": "06a38237-9c30-4d21-8975-9b77973a6792",
   "metadata": {},
   "outputs": [
    {
     "name": "stdout",
     "output_type": "stream",
     "text": [
      "Accuracy: 0.8375\n",
      "F1-Score: 0.8051641372524225\n"
     ]
    }
   ],
   "source": [
    "y_pred = nb_model.predict(X_test)\n",
    "\n",
    "print(f'Accuracy: {accuracy_score(y_test, y_pred)}')\n",
    "print(f'F1-Score: {f1_score(y_test, y_pred, average=\"macro\")}')"
   ]
  },
  {
   "cell_type": "markdown",
   "id": "df1774cb-8eec-4d1d-84fa-2cd9350e9763",
   "metadata": {},
   "source": [
    "### На чистом тексте"
   ]
  },
  {
   "cell_type": "code",
   "execution_count": 16,
   "id": "7dea040c-bab0-415d-abb1-7c159014ceaf",
   "metadata": {},
   "outputs": [],
   "source": [
    "X = vectorizer.fit_transform(df.clean_text.tolist())\n",
    "y = df['class']"
   ]
  },
  {
   "cell_type": "code",
   "execution_count": 17,
   "id": "a5238cd8-2efc-4a3a-954d-b4e91a6c2449",
   "metadata": {},
   "outputs": [],
   "source": [
    "X_train, X_test, y_train, y_test = train_test_split(X, y, test_size=0.2, random_state=42)"
   ]
  },
  {
   "cell_type": "code",
   "execution_count": 18,
   "id": "0d5b54dd-4d8f-437a-bd71-49727524e71e",
   "metadata": {},
   "outputs": [
    {
     "data": {
      "text/html": [
       "<style>#sk-container-id-2 {color: black;background-color: white;}#sk-container-id-2 pre{padding: 0;}#sk-container-id-2 div.sk-toggleable {background-color: white;}#sk-container-id-2 label.sk-toggleable__label {cursor: pointer;display: block;width: 100%;margin-bottom: 0;padding: 0.3em;box-sizing: border-box;text-align: center;}#sk-container-id-2 label.sk-toggleable__label-arrow:before {content: \"▸\";float: left;margin-right: 0.25em;color: #696969;}#sk-container-id-2 label.sk-toggleable__label-arrow:hover:before {color: black;}#sk-container-id-2 div.sk-estimator:hover label.sk-toggleable__label-arrow:before {color: black;}#sk-container-id-2 div.sk-toggleable__content {max-height: 0;max-width: 0;overflow: hidden;text-align: left;background-color: #f0f8ff;}#sk-container-id-2 div.sk-toggleable__content pre {margin: 0.2em;color: black;border-radius: 0.25em;background-color: #f0f8ff;}#sk-container-id-2 input.sk-toggleable__control:checked~div.sk-toggleable__content {max-height: 200px;max-width: 100%;overflow: auto;}#sk-container-id-2 input.sk-toggleable__control:checked~label.sk-toggleable__label-arrow:before {content: \"▾\";}#sk-container-id-2 div.sk-estimator input.sk-toggleable__control:checked~label.sk-toggleable__label {background-color: #d4ebff;}#sk-container-id-2 div.sk-label input.sk-toggleable__control:checked~label.sk-toggleable__label {background-color: #d4ebff;}#sk-container-id-2 input.sk-hidden--visually {border: 0;clip: rect(1px 1px 1px 1px);clip: rect(1px, 1px, 1px, 1px);height: 1px;margin: -1px;overflow: hidden;padding: 0;position: absolute;width: 1px;}#sk-container-id-2 div.sk-estimator {font-family: monospace;background-color: #f0f8ff;border: 1px dotted black;border-radius: 0.25em;box-sizing: border-box;margin-bottom: 0.5em;}#sk-container-id-2 div.sk-estimator:hover {background-color: #d4ebff;}#sk-container-id-2 div.sk-parallel-item::after {content: \"\";width: 100%;border-bottom: 1px solid gray;flex-grow: 1;}#sk-container-id-2 div.sk-label:hover label.sk-toggleable__label {background-color: #d4ebff;}#sk-container-id-2 div.sk-serial::before {content: \"\";position: absolute;border-left: 1px solid gray;box-sizing: border-box;top: 0;bottom: 0;left: 50%;z-index: 0;}#sk-container-id-2 div.sk-serial {display: flex;flex-direction: column;align-items: center;background-color: white;padding-right: 0.2em;padding-left: 0.2em;position: relative;}#sk-container-id-2 div.sk-item {position: relative;z-index: 1;}#sk-container-id-2 div.sk-parallel {display: flex;align-items: stretch;justify-content: center;background-color: white;position: relative;}#sk-container-id-2 div.sk-item::before, #sk-container-id-2 div.sk-parallel-item::before {content: \"\";position: absolute;border-left: 1px solid gray;box-sizing: border-box;top: 0;bottom: 0;left: 50%;z-index: -1;}#sk-container-id-2 div.sk-parallel-item {display: flex;flex-direction: column;z-index: 1;position: relative;background-color: white;}#sk-container-id-2 div.sk-parallel-item:first-child::after {align-self: flex-end;width: 50%;}#sk-container-id-2 div.sk-parallel-item:last-child::after {align-self: flex-start;width: 50%;}#sk-container-id-2 div.sk-parallel-item:only-child::after {width: 0;}#sk-container-id-2 div.sk-dashed-wrapped {border: 1px dashed gray;margin: 0 0.4em 0.5em 0.4em;box-sizing: border-box;padding-bottom: 0.4em;background-color: white;}#sk-container-id-2 div.sk-label label {font-family: monospace;font-weight: bold;display: inline-block;line-height: 1.2em;}#sk-container-id-2 div.sk-label-container {text-align: center;}#sk-container-id-2 div.sk-container {/* jupyter's `normalize.less` sets `[hidden] { display: none; }` but bootstrap.min.css set `[hidden] { display: none !important; }` so we also need the `!important` here to be able to override the default hidden behavior on the sphinx rendered scikit-learn.org. See: https://github.com/scikit-learn/scikit-learn/issues/21755 */display: inline-block !important;position: relative;}#sk-container-id-2 div.sk-text-repr-fallback {display: none;}</style><div id=\"sk-container-id-2\" class=\"sk-top-container\"><div class=\"sk-text-repr-fallback\"><pre>MultinomialNB()</pre><b>In a Jupyter environment, please rerun this cell to show the HTML representation or trust the notebook. <br />On GitHub, the HTML representation is unable to render, please try loading this page with nbviewer.org.</b></div><div class=\"sk-container\" hidden><div class=\"sk-item\"><div class=\"sk-estimator sk-toggleable\"><input class=\"sk-toggleable__control sk-hidden--visually\" id=\"sk-estimator-id-2\" type=\"checkbox\" checked><label for=\"sk-estimator-id-2\" class=\"sk-toggleable__label sk-toggleable__label-arrow\">MultinomialNB</label><div class=\"sk-toggleable__content\"><pre>MultinomialNB()</pre></div></div></div></div></div>"
      ],
      "text/plain": [
       "MultinomialNB()"
      ]
     },
     "execution_count": 18,
     "metadata": {},
     "output_type": "execute_result"
    }
   ],
   "source": [
    "nb_model = MultinomialNB()\n",
    "nb_model.fit(X_train, y_train)"
   ]
  },
  {
   "cell_type": "code",
   "execution_count": 19,
   "id": "9d952825-38a4-45f8-a56c-3994fd4f172a",
   "metadata": {},
   "outputs": [
    {
     "name": "stdout",
     "output_type": "stream",
     "text": [
      "Accuracy: 0.9125\n",
      "F1-Score: 0.9255278565623394\n"
     ]
    }
   ],
   "source": [
    "y_pred = nb_model.predict(X_test)\n",
    "\n",
    "print(f'Accuracy: {accuracy_score(y_test, y_pred)}')\n",
    "print(f'F1-Score: {f1_score(y_test, y_pred, average=\"macro\")}')"
   ]
  },
  {
   "cell_type": "code",
   "execution_count": null,
   "id": "fcf5e0ff",
   "metadata": {},
   "outputs": [],
   "source": []
  }
 ],
 "metadata": {
  "kernelspec": {
   "display_name": "Python 3 (ipykernel)",
   "language": "python",
   "name": "python3"
  },
  "language_info": {
   "codemirror_mode": {
    "name": "ipython",
    "version": 3
   },
   "file_extension": ".py",
   "mimetype": "text/x-python",
   "name": "python",
   "nbconvert_exporter": "python",
   "pygments_lexer": "ipython3",
   "version": "3.11.5"
  }
 },
 "nbformat": 4,
 "nbformat_minor": 5
}
