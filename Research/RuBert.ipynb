{
  "cells": [
    {
      "cell_type": "code",
      "execution_count": 174,
      "metadata": {
        "colab": {
          "base_uri": "https://localhost:8080/"
        },
        "id": "j4JUBGmozmpp",
        "outputId": "63b15eee-172a-4abb-9b28-ea3b0fb6aac5"
      },
      "outputs": [
        {
          "output_type": "stream",
          "name": "stderr",
          "text": [
            "[nltk_data] Downloading package punkt to /root/nltk_data...\n",
            "[nltk_data]   Package punkt is already up-to-date!\n",
            "[nltk_data] Downloading package stopwords to /root/nltk_data...\n",
            "[nltk_data]   Package stopwords is already up-to-date!\n"
          ]
        }
      ],
      "source": [
        "import pandas as pd\n",
        "import re\n",
        "import string\n",
        "import numpy as np\n",
        "import torch\n",
        "from sklearn.metrics import roc_auc_score\n",
        "from scipy.stats import ks_2samp\n",
        "from datasets import load_dataset, Dataset\n",
        "from transformers import (\n",
        "    BertTokenizer,\n",
        "    BertForSequenceClassification,\n",
        "    AutoTokenizer,\n",
        "    AutoModel,\n",
        "    AutoModelForSequenceClassification,\n",
        "    Trainer,\n",
        "    TrainingArguments,\n",
        "    pipeline\n",
        ")\n",
        "from natasha import Doc, Segmenter, MorphVocab, NewsEmbedding, NewsMorphTagger\n",
        "import nltk\n",
        "from nltk.corpus import stopwords\n",
        "from nltk.tokenize import word_tokenize\n",
        "import spacy\n",
        "\n",
        "# Загрузка ресурсов\n",
        "nltk.download('punkt')\n",
        "nltk.download('stopwords')\n",
        "russian_stopwords = set(stopwords.words(\"russian\"))\n",
        "nlp = spacy.load(\"ru_core_news_sm\")\n",
        "\n"
      ]
    },
    {
      "cell_type": "code",
      "execution_count": 59,
      "metadata": {
        "id": "_SPQ08XuzpQm"
      },
      "outputs": [],
      "source": [
        "df = pd.read_csv(r'/content/train.csv')\n",
        "test = pd.read_csv(r'/content/test.csv')"
      ]
    },
    {
      "cell_type": "code",
      "source": [
        "# Инициализация компонентов Natasha\n",
        "segmenter = Segmenter()\n",
        "morph_vocab = MorphVocab()\n",
        "emb = NewsEmbedding()\n",
        "morph_tagger = NewsMorphTagger(emb)\n",
        "\n",
        "# Список месяцев\n",
        "months = [\n",
        "    \"январь\", \"февраль\", \"март\", \"апрель\", \"май\", \"июнь\",\n",
        "    \"июль\", \"август\", \"сентябрь\", \"октябрь\", \"ноябрь\", \"декабрь\"\n",
        "]\n",
        "\n",
        "# Стоп-слова\n",
        "russian_stopwords = set(stopwords.words(\"russian\"))\n",
        "russian_stopwords.discard('за')  # Убираем из стоп-слов \"за\"\n",
        "russian_stopwords.update(['кг', 'сумма', 'тч', 'мл', 'счёт'])  # Добавляем свои слова\n",
        "\n",
        "# Функция очистки текста\n",
        "def clear(text, russian_stopwords, segmenter, morph_vocab, morph_tagger, months):\n",
        "    # Удаляем даты из текста\n",
        "    date_pattern = r\"(\\d{0,4}[./-]?)\"\n",
        "    cleaned_text = re.sub(date_pattern, \"\", text)\n",
        "\n",
        "    # Токенизация и удаление стоп-слов\n",
        "    tokens = word_tokenize(cleaned_text.lower())\n",
        "    tokens = [token for token in tokens if token not in russian_stopwords]\n",
        "    tokens = [token for token in tokens if token not in string.punctuation]\n",
        "    cleaned_text = ' '.join(tokens)\n",
        "\n",
        "    doc = Doc(cleaned_text)\n",
        "    doc.segment(segmenter)\n",
        "    doc.tag_morph(morph_tagger)\n",
        "\n",
        "    for token in doc.tokens:\n",
        "        token.lemmatize(morph_vocab)\n",
        "\n",
        "\n",
        "    lemmas = [token.lemma for token in doc.tokens if token.lemma not in months and len(token.lemma) > 1]\n",
        "\n",
        "    return ' '.join(lemmas)"
      ],
      "metadata": {
        "id": "TqDNmSgzG0vC"
      },
      "execution_count": 192,
      "outputs": []
    },
    {
      "cell_type": "code",
      "source": [
        "class_ = list(df['class'].unique())\n",
        "len_class = len(class_)"
      ],
      "metadata": {
        "id": "bXBXnUirx5oX"
      },
      "execution_count": 82,
      "outputs": []
    },
    {
      "cell_type": "code",
      "execution_count": 83,
      "metadata": {
        "id": "UGacAduKpyKM"
      },
      "outputs": [],
      "source": [
        "df['text'] = df['text'].apply(lambda x: clear(x,russian_stopwords, segmenter, morph_vocab, morph_tagger, months))\n",
        "test['text'] = test['text'].apply(lambda x: chist(x,russian_stopwords, segmenter, morph_vocab, morph_tagger, months))\n",
        "df['label_encoded'] = df['class'].apply(lambda x: class_.index(x))\n",
        "test['label_encoded'] = test['class'].apply(lambda x: class_.index(x))"
      ]
    },
    {
      "cell_type": "code",
      "execution_count": 84,
      "metadata": {
        "colab": {
          "base_uri": "https://localhost:8080/"
        },
        "id": "j5UkkgwQXAsT",
        "outputId": "5325fe9a-f2ce-4292-89e2-90f047b4a765"
      },
      "outputs": [
        {
          "output_type": "stream",
          "name": "stderr",
          "text": [
            "Some weights of BertForSequenceClassification were not initialized from the model checkpoint at sberbank-ai/ruBert-large and are newly initialized: ['classifier.bias', 'classifier.weight']\n",
            "You should probably TRAIN this model on a down-stream task to be able to use it for predictions and inference.\n"
          ]
        }
      ],
      "source": [
        "model_name = \"sberbank-ai/ruBert-large\"\n",
        "model = BertForSequenceClassification.from_pretrained(\n",
        "    model_name,\n",
        "    num_labels=len_class\n",
        ")\n",
        "tokenizer = BertTokenizer.from_pretrained(model_name)"
      ]
    },
    {
      "cell_type": "code",
      "execution_count": 85,
      "metadata": {
        "id": "iXw-WjGjXcv9"
      },
      "outputs": [],
      "source": [
        "model.config.id2label = {\n",
        "    0:0,\n",
        "    1: 1,\n",
        "    2: 2,\n",
        "    3: 3,\n",
        "    4: 4,\n",
        "    5: 5,\n",
        "    6: 6,\n",
        "    7: 7,\n",
        "    8: 8\n",
        "}"
      ]
    },
    {
      "cell_type": "code",
      "execution_count": 86,
      "metadata": {
        "id": "UBfCmaTP0byC"
      },
      "outputs": [],
      "source": [
        "for param in model.bert.parameters():\n",
        "    param.requires_grad = False"
      ]
    },
    {
      "cell_type": "code",
      "execution_count": 87,
      "metadata": {
        "id": "N-0PNXMC07pz"
      },
      "outputs": [],
      "source": [
        "train_df = pd.DataFrame({\"text\": df['text'], \"label\": df['label_encoded']})\n",
        "test_df = pd.DataFrame({\"text\": test['text'], \"label\": test['label_encoded']})"
      ]
    },
    {
      "cell_type": "code",
      "execution_count": 88,
      "metadata": {
        "id": "GEdHE1Hq1s9P"
      },
      "outputs": [],
      "source": [
        "train_dataset = Dataset.from_pandas(train_df)\n",
        "test_dataset = Dataset.from_pandas(test_df)"
      ]
    },
    {
      "cell_type": "code",
      "execution_count": 89,
      "metadata": {
        "colab": {
          "base_uri": "https://localhost:8080/",
          "height": 81,
          "referenced_widgets": [
            "11f53ff46559427f9e002f9d10ed28ee",
            "2f9b666cc5054aa2bbff45984c7a7d84",
            "74e070ea4f2d4df28d8e45131eca6162",
            "9fec7c417a0b4257b0019e4f444ea13f",
            "63837c52b258418099d9a2881a47b919",
            "93374535a18b47ef9c988c8f2745e3f7",
            "9c61e314a8084408b6bf7ff12c1dca16",
            "fc67c31d085e4c12894ec1e27ebbd0fb",
            "e3c8ca2ed2c042e1909cf18df29fc2fd",
            "903c3aa9cace40eb84b4b38dd1c7fb6b",
            "9d6d3418ba78499bb1ddb2feef1de5d8",
            "6a371b81591b444da6d9a1b68d6456bb",
            "c7ceced607544bbf8c0f043640cfd6b1",
            "061af5ba14e840db80b76b708cbfe072",
            "4e8abb47ec214fe396ebefb58bc793f9",
            "f450d7fccd4744dbbf9b5551a16c18c1",
            "23d5f4eb8db3444c9174967ff36321bb",
            "abd25da791d64fa9be3a6df4b27bcd08",
            "cd6f8112eb704e52a418115e69acff1b",
            "c265b481cbf747ffa7ecb1c676da8bb1",
            "953391ea94fc42929c6f535857853689",
            "e395a350c9e8498e98b668aa382dbcf6"
          ]
        },
        "id": "Wj56vJlc12x5",
        "outputId": "47bc0cdc-3b81-4e97-a376-f159cfeeb904"
      },
      "outputs": [
        {
          "output_type": "display_data",
          "data": {
            "text/plain": [
              "Map:   0%|          | 0/400 [00:00<?, ? examples/s]"
            ],
            "application/vnd.jupyter.widget-view+json": {
              "version_major": 2,
              "version_minor": 0,
              "model_id": "11f53ff46559427f9e002f9d10ed28ee"
            }
          },
          "metadata": {}
        },
        {
          "output_type": "display_data",
          "data": {
            "text/plain": [
              "Map:   0%|          | 0/100 [00:00<?, ? examples/s]"
            ],
            "application/vnd.jupyter.widget-view+json": {
              "version_major": 2,
              "version_minor": 0,
              "model_id": "6a371b81591b444da6d9a1b68d6456bb"
            }
          },
          "metadata": {}
        }
      ],
      "source": [
        "def tokenize_function(examples):\n",
        "    return tokenizer(examples[\"text\"], padding=\"max_length\", truncation=True, max_length=7)\n",
        "\n",
        "# Токенизируем оба набора\n",
        "train_dataset = train_dataset.map(tokenize_function, batched=True)\n",
        "test_dataset = test_dataset.map(tokenize_function, batched=True)"
      ]
    },
    {
      "cell_type": "code",
      "execution_count": 90,
      "metadata": {
        "id": "7pFk_JKx2rey"
      },
      "outputs": [],
      "source": [
        "train_dataset = train_dataset.remove_columns([\"text\"])\n",
        "test_dataset = test_dataset.remove_columns([\"text\"])\n",
        "train_dataset = train_dataset.with_format(\"torch\")\n",
        "test_dataset = test_dataset.with_format(\"torch\")"
      ]
    },
    {
      "cell_type": "code",
      "execution_count": 91,
      "metadata": {
        "id": "-tNM1R3nS6oK"
      },
      "outputs": [],
      "source": [
        "from sklearn.metrics import f1_score, accuracy_score, precision_score, recall_score\n",
        "import numpy as np\n",
        "\n",
        "def compute_metrics(eval_pred):\n",
        "    logits, labels = eval_pred\n",
        "    predictions = np.argmax(logits, axis=-1)\n",
        "\n",
        "    f1 = f1_score(labels, predictions, average=\"weighted\")\n",
        "    accuracy = accuracy_score(labels, predictions)\n",
        "    precision = precision_score(labels, predictions, average=\"weighted\")\n",
        "    recall = recall_score(labels, predictions, average=\"weighted\")\n",
        "\n",
        "    return {\n",
        "        \"f1\": f1,\n",
        "        \"accuracy\": accuracy,\n",
        "        \"precision\": precision,\n",
        "        \"recall\": recall\n",
        "    }"
      ]
    },
    {
      "cell_type": "code",
      "execution_count": 94,
      "metadata": {
        "id": "rcsRwARh3CUG"
      },
      "outputs": [],
      "source": [
        "training_args = TrainingArguments(\n",
        "    output_dir=\"./results\",\n",
        "    evaluation_strategy=\"epoch\",\n",
        "    learning_rate=0.01,\n",
        "    per_device_train_batch_size=8,\n",
        "    per_device_eval_batch_size=8,\n",
        "    num_train_epochs=15,\n",
        "    weight_decay=0.01,\n",
        "    save_strategy=\"epoch\",\n",
        "    report_to=[]\n",
        ")"
      ]
    },
    {
      "cell_type": "code",
      "execution_count": 95,
      "metadata": {
        "colab": {
          "base_uri": "https://localhost:8080/",
          "height": 670
        },
        "id": "MNrlsljh3Kh2",
        "outputId": "fafe277f-7c74-4b84-e2d0-7b30b727770c"
      },
      "outputs": [
        {
          "output_type": "display_data",
          "data": {
            "text/plain": [
              "<IPython.core.display.HTML object>"
            ],
            "text/html": [
              "\n",
              "    <div>\n",
              "      \n",
              "      <progress value='750' max='750' style='width:300px; height:20px; vertical-align: middle;'></progress>\n",
              "      [750/750 24:29, Epoch 15/15]\n",
              "    </div>\n",
              "    <table border=\"1\" class=\"dataframe\">\n",
              "  <thead>\n",
              " <tr style=\"text-align: left;\">\n",
              "      <th>Epoch</th>\n",
              "      <th>Training Loss</th>\n",
              "      <th>Validation Loss</th>\n",
              "      <th>F1</th>\n",
              "      <th>Accuracy</th>\n",
              "      <th>Precision</th>\n",
              "      <th>Recall</th>\n",
              "    </tr>\n",
              "  </thead>\n",
              "  <tbody>\n",
              "    <tr>\n",
              "      <td>1</td>\n",
              "      <td>No log</td>\n",
              "      <td>1.433541</td>\n",
              "      <td>0.492400</td>\n",
              "      <td>0.540000</td>\n",
              "      <td>0.485293</td>\n",
              "      <td>0.540000</td>\n",
              "    </tr>\n",
              "    <tr>\n",
              "      <td>2</td>\n",
              "      <td>No log</td>\n",
              "      <td>1.015462</td>\n",
              "      <td>0.631605</td>\n",
              "      <td>0.620000</td>\n",
              "      <td>0.715515</td>\n",
              "      <td>0.620000</td>\n",
              "    </tr>\n",
              "    <tr>\n",
              "      <td>3</td>\n",
              "      <td>No log</td>\n",
              "      <td>1.073347</td>\n",
              "      <td>0.683464</td>\n",
              "      <td>0.700000</td>\n",
              "      <td>0.737684</td>\n",
              "      <td>0.700000</td>\n",
              "    </tr>\n",
              "    <tr>\n",
              "      <td>4</td>\n",
              "      <td>No log</td>\n",
              "      <td>0.712373</td>\n",
              "      <td>0.713921</td>\n",
              "      <td>0.730000</td>\n",
              "      <td>0.852222</td>\n",
              "      <td>0.730000</td>\n",
              "    </tr>\n",
              "    <tr>\n",
              "      <td>5</td>\n",
              "      <td>No log</td>\n",
              "      <td>0.496486</td>\n",
              "      <td>0.778173</td>\n",
              "      <td>0.780000</td>\n",
              "      <td>0.814842</td>\n",
              "      <td>0.780000</td>\n",
              "    </tr>\n",
              "    <tr>\n",
              "      <td>6</td>\n",
              "      <td>No log</td>\n",
              "      <td>0.481144</td>\n",
              "      <td>0.865338</td>\n",
              "      <td>0.860000</td>\n",
              "      <td>0.901825</td>\n",
              "      <td>0.860000</td>\n",
              "    </tr>\n",
              "    <tr>\n",
              "      <td>7</td>\n",
              "      <td>No log</td>\n",
              "      <td>0.399924</td>\n",
              "      <td>0.851464</td>\n",
              "      <td>0.880000</td>\n",
              "      <td>0.905933</td>\n",
              "      <td>0.880000</td>\n",
              "    </tr>\n",
              "    <tr>\n",
              "      <td>8</td>\n",
              "      <td>No log</td>\n",
              "      <td>0.303109</td>\n",
              "      <td>0.894051</td>\n",
              "      <td>0.900000</td>\n",
              "      <td>0.910602</td>\n",
              "      <td>0.900000</td>\n",
              "    </tr>\n",
              "    <tr>\n",
              "      <td>9</td>\n",
              "      <td>No log</td>\n",
              "      <td>0.321593</td>\n",
              "      <td>0.888725</td>\n",
              "      <td>0.890000</td>\n",
              "      <td>0.917890</td>\n",
              "      <td>0.890000</td>\n",
              "    </tr>\n",
              "    <tr>\n",
              "      <td>10</td>\n",
              "      <td>1.165800</td>\n",
              "      <td>0.315006</td>\n",
              "      <td>0.888339</td>\n",
              "      <td>0.890000</td>\n",
              "      <td>0.901706</td>\n",
              "      <td>0.890000</td>\n",
              "    </tr>\n",
              "    <tr>\n",
              "      <td>11</td>\n",
              "      <td>1.165800</td>\n",
              "      <td>0.308537</td>\n",
              "      <td>0.865959</td>\n",
              "      <td>0.870000</td>\n",
              "      <td>0.884421</td>\n",
              "      <td>0.870000</td>\n",
              "    </tr>\n",
              "    <tr>\n",
              "      <td>12</td>\n",
              "      <td>1.165800</td>\n",
              "      <td>0.202174</td>\n",
              "      <td>0.949436</td>\n",
              "      <td>0.950000</td>\n",
              "      <td>0.958068</td>\n",
              "      <td>0.950000</td>\n",
              "    </tr>\n",
              "    <tr>\n",
              "      <td>13</td>\n",
              "      <td>1.165800</td>\n",
              "      <td>0.150631</td>\n",
              "      <td>0.970121</td>\n",
              "      <td>0.970000</td>\n",
              "      <td>0.971000</td>\n",
              "      <td>0.970000</td>\n",
              "    </tr>\n",
              "    <tr>\n",
              "      <td>14</td>\n",
              "      <td>1.165800</td>\n",
              "      <td>0.190288</td>\n",
              "      <td>0.949516</td>\n",
              "      <td>0.950000</td>\n",
              "      <td>0.952858</td>\n",
              "      <td>0.950000</td>\n",
              "    </tr>\n",
              "    <tr>\n",
              "      <td>15</td>\n",
              "      <td>1.165800</td>\n",
              "      <td>0.172402</td>\n",
              "      <td>0.980016</td>\n",
              "      <td>0.980000</td>\n",
              "      <td>0.981611</td>\n",
              "      <td>0.980000</td>\n",
              "    </tr>\n",
              "  </tbody>\n",
              "</table><p>"
            ]
          },
          "metadata": {}
        },
        {
          "output_type": "stream",
          "name": "stderr",
          "text": [
            "/usr/local/lib/python3.10/dist-packages/sklearn/metrics/_classification.py:1531: UndefinedMetricWarning: Precision is ill-defined and being set to 0.0 in labels with no predicted samples. Use `zero_division` parameter to control this behavior.\n",
            "  _warn_prf(average, modifier, f\"{metric.capitalize()} is\", len(result))\n",
            "/usr/local/lib/python3.10/dist-packages/sklearn/metrics/_classification.py:1531: UndefinedMetricWarning: Precision is ill-defined and being set to 0.0 in labels with no predicted samples. Use `zero_division` parameter to control this behavior.\n",
            "  _warn_prf(average, modifier, f\"{metric.capitalize()} is\", len(result))\n"
          ]
        },
        {
          "output_type": "execute_result",
          "data": {
            "text/plain": [
              "TrainOutput(global_step=750, training_loss=0.9251091918945312, metrics={'train_runtime': 1470.5942, 'train_samples_per_second': 4.08, 'train_steps_per_second': 0.51, 'total_flos': 76449302748000.0, 'train_loss': 0.9251091918945312, 'epoch': 15.0})"
            ]
          },
          "metadata": {},
          "execution_count": 95
        }
      ],
      "source": [
        "trainer = Trainer(\n",
        "    model=model,\n",
        "    args=training_args,\n",
        "    train_dataset=train_dataset,\n",
        "    eval_dataset=test_dataset,\n",
        "    compute_metrics=compute_metrics\n",
        ")\n",
        "trainer.train()"
      ]
    },
    {
      "cell_type": "markdown",
      "source": [],
      "metadata": {
        "id": "RqIWHHw9XImP"
      }
    },
    {
      "cell_type": "code",
      "execution_count": 99,
      "metadata": {
        "id": "cxdSJ28Qz75k",
        "colab": {
          "base_uri": "https://localhost:8080/"
        },
        "outputId": "07e9c58d-89da-40f8-b083-d90b1b26cbd6"
      },
      "outputs": [
        {
          "output_type": "execute_result",
          "data": {
            "text/plain": [
              "('./rubert_model/tokenizer_config.json',\n",
              " './rubert_model/special_tokens_map.json',\n",
              " './rubert_model/vocab.txt',\n",
              " './rubert_model/added_tokens.json')"
            ]
          },
          "metadata": {},
          "execution_count": 99
        }
      ],
      "source": [
        "model.save_pretrained(\"./rubert_model\")\n",
        "tokenizer.save_pretrained(\"./rubert_model\")"
      ]
    },
    {
      "cell_type": "code",
      "source": [
        "classifier = pipeline(\"text-classification\", model=model, tokenizer=tokenizer)"
      ],
      "metadata": {
        "id": "7Vrb0_iKx0c6"
      },
      "execution_count": 182,
      "outputs": []
    },
    {
      "cell_type": "code",
      "source": [
        "ind = 0\n",
        "true_value =[]\n",
        "other_value = []\n",
        "text2 = test['text'].to_list()\n",
        "label2 = test['label_encoded'].to_list()\n",
        "\n",
        "for i in range(len(text2)):\n",
        "  promb = classifier(text2[i],return_all_scores=True)[0][ind]['score']\n",
        "\n",
        "  if label2[i] == ind:\n",
        "    true_value.append(promb)\n",
        "  else:\n",
        "    other_value.append(promb)"
      ],
      "metadata": {
        "id": "DJVqP404iEey"
      },
      "execution_count": 186,
      "outputs": []
    },
    {
      "cell_type": "code",
      "source": [
        "stat,pvalue = ks_2samp(true_value, other_value)"
      ],
      "metadata": {
        "id": "hSPMN20doqA5"
      },
      "execution_count": 187,
      "outputs": []
    },
    {
      "cell_type": "code",
      "source": [
        "print(f'Статистика Колмогорова-Смирнова: {stat}, p-value: {pvalue}')"
      ],
      "metadata": {
        "colab": {
          "base_uri": "https://localhost:8080/"
        },
        "id": "lcIDOqq-pNfz",
        "outputId": "0b160c69-cb2c-43e7-f682-a55e5d7e84c0"
      },
      "execution_count": 188,
      "outputs": [
        {
          "output_type": "stream",
          "name": "stdout",
          "text": [
            "Статистика Колмогорова-Смирнова: 1.0, p-value: 1.1553808469067748e-13\n"
          ]
        }
      ]
    },
    {
      "cell_type": "code",
      "source": [
        "texts = test['text'].tolist()\n",
        "true_labels = test['label_encoded'].tolist()\n",
        "\n",
        "all_probs = []\n",
        "for text in texts:\n",
        "    processed_text = clear(text, russian_stopwords, segmenter, morph_vocab, morph_tagger, months)\n",
        "    predict = classifier(processed_text, return_all_scores=True)\n",
        "    probs = [label['score'] for label in predict[0]]\n",
        "    all_probs.append(probs)\n",
        "\n",
        "\n",
        "all_probs = np.array(all_probs)\n",
        "\n",
        "unique_classes = list(set(true_labels))\n",
        "label_to_index = {label: i for i, label in enumerate(unique_classes)}\n",
        "true_labels_one_hot = np.zeros((len(true_labels), len(unique_classes)))\n",
        "\n",
        "for i, label in enumerate(true_labels):\n",
        "    true_labels_one_hot[i, label_to_index[label]] = 1\n"
      ],
      "metadata": {
        "id": "gvtdVd9piyvn"
      },
      "execution_count": 189,
      "outputs": []
    },
    {
      "cell_type": "code",
      "source": [
        "roc_auc = roc_auc_score(true_labels_one_hot, all_probs, multi_class='ovr')"
      ],
      "metadata": {
        "id": "XfxS9Ibxp4dY"
      },
      "execution_count": 190,
      "outputs": []
    },
    {
      "cell_type": "code",
      "source": [
        "print(f'Gini:{2*roc_auc - 1}')"
      ],
      "metadata": {
        "colab": {
          "base_uri": "https://localhost:8080/"
        },
        "id": "3NgzdOINpudW",
        "outputId": "46ca8040-fe17-47f5-cc3a-c06af983a930"
      },
      "execution_count": 191,
      "outputs": [
        {
          "output_type": "stream",
          "name": "stdout",
          "text": [
            "Gini:0.9168993697734247\n"
          ]
        }
      ]
    }
  ],
  "metadata": {
    "colab": {
      "provenance": []
    },
    "kernelspec": {
      "display_name": "Python 3",
      "name": "python3"
    },
    "language_info": {
      "name": "python"
    },
    "widgets": {
      "application/vnd.jupyter.widget-state+json": {
        "11f53ff46559427f9e002f9d10ed28ee": {
          "model_module": "@jupyter-widgets/controls",
          "model_name": "HBoxModel",
          "model_module_version": "1.5.0",
          "state": {
            "_dom_classes": [],
            "_model_module": "@jupyter-widgets/controls",
            "_model_module_version": "1.5.0",
            "_model_name": "HBoxModel",
            "_view_count": null,
            "_view_module": "@jupyter-widgets/controls",
            "_view_module_version": "1.5.0",
            "_view_name": "HBoxView",
            "box_style": "",
            "children": [
              "IPY_MODEL_2f9b666cc5054aa2bbff45984c7a7d84",
              "IPY_MODEL_74e070ea4f2d4df28d8e45131eca6162",
              "IPY_MODEL_9fec7c417a0b4257b0019e4f444ea13f"
            ],
            "layout": "IPY_MODEL_63837c52b258418099d9a2881a47b919"
          }
        },
        "2f9b666cc5054aa2bbff45984c7a7d84": {
          "model_module": "@jupyter-widgets/controls",
          "model_name": "HTMLModel",
          "model_module_version": "1.5.0",
          "state": {
            "_dom_classes": [],
            "_model_module": "@jupyter-widgets/controls",
            "_model_module_version": "1.5.0",
            "_model_name": "HTMLModel",
            "_view_count": null,
            "_view_module": "@jupyter-widgets/controls",
            "_view_module_version": "1.5.0",
            "_view_name": "HTMLView",
            "description": "",
            "description_tooltip": null,
            "layout": "IPY_MODEL_93374535a18b47ef9c988c8f2745e3f7",
            "placeholder": "​",
            "style": "IPY_MODEL_9c61e314a8084408b6bf7ff12c1dca16",
            "value": "Map: 100%"
          }
        },
        "74e070ea4f2d4df28d8e45131eca6162": {
          "model_module": "@jupyter-widgets/controls",
          "model_name": "FloatProgressModel",
          "model_module_version": "1.5.0",
          "state": {
            "_dom_classes": [],
            "_model_module": "@jupyter-widgets/controls",
            "_model_module_version": "1.5.0",
            "_model_name": "FloatProgressModel",
            "_view_count": null,
            "_view_module": "@jupyter-widgets/controls",
            "_view_module_version": "1.5.0",
            "_view_name": "ProgressView",
            "bar_style": "success",
            "description": "",
            "description_tooltip": null,
            "layout": "IPY_MODEL_fc67c31d085e4c12894ec1e27ebbd0fb",
            "max": 400,
            "min": 0,
            "orientation": "horizontal",
            "style": "IPY_MODEL_e3c8ca2ed2c042e1909cf18df29fc2fd",
            "value": 400
          }
        },
        "9fec7c417a0b4257b0019e4f444ea13f": {
          "model_module": "@jupyter-widgets/controls",
          "model_name": "HTMLModel",
          "model_module_version": "1.5.0",
          "state": {
            "_dom_classes": [],
            "_model_module": "@jupyter-widgets/controls",
            "_model_module_version": "1.5.0",
            "_model_name": "HTMLModel",
            "_view_count": null,
            "_view_module": "@jupyter-widgets/controls",
            "_view_module_version": "1.5.0",
            "_view_name": "HTMLView",
            "description": "",
            "description_tooltip": null,
            "layout": "IPY_MODEL_903c3aa9cace40eb84b4b38dd1c7fb6b",
            "placeholder": "​",
            "style": "IPY_MODEL_9d6d3418ba78499bb1ddb2feef1de5d8",
            "value": " 400/400 [00:00&lt;00:00, 2207.15 examples/s]"
          }
        },
        "63837c52b258418099d9a2881a47b919": {
          "model_module": "@jupyter-widgets/base",
          "model_name": "LayoutModel",
          "model_module_version": "1.2.0",
          "state": {
            "_model_module": "@jupyter-widgets/base",
            "_model_module_version": "1.2.0",
            "_model_name": "LayoutModel",
            "_view_count": null,
            "_view_module": "@jupyter-widgets/base",
            "_view_module_version": "1.2.0",
            "_view_name": "LayoutView",
            "align_content": null,
            "align_items": null,
            "align_self": null,
            "border": null,
            "bottom": null,
            "display": null,
            "flex": null,
            "flex_flow": null,
            "grid_area": null,
            "grid_auto_columns": null,
            "grid_auto_flow": null,
            "grid_auto_rows": null,
            "grid_column": null,
            "grid_gap": null,
            "grid_row": null,
            "grid_template_areas": null,
            "grid_template_columns": null,
            "grid_template_rows": null,
            "height": null,
            "justify_content": null,
            "justify_items": null,
            "left": null,
            "margin": null,
            "max_height": null,
            "max_width": null,
            "min_height": null,
            "min_width": null,
            "object_fit": null,
            "object_position": null,
            "order": null,
            "overflow": null,
            "overflow_x": null,
            "overflow_y": null,
            "padding": null,
            "right": null,
            "top": null,
            "visibility": null,
            "width": null
          }
        },
        "93374535a18b47ef9c988c8f2745e3f7": {
          "model_module": "@jupyter-widgets/base",
          "model_name": "LayoutModel",
          "model_module_version": "1.2.0",
          "state": {
            "_model_module": "@jupyter-widgets/base",
            "_model_module_version": "1.2.0",
            "_model_name": "LayoutModel",
            "_view_count": null,
            "_view_module": "@jupyter-widgets/base",
            "_view_module_version": "1.2.0",
            "_view_name": "LayoutView",
            "align_content": null,
            "align_items": null,
            "align_self": null,
            "border": null,
            "bottom": null,
            "display": null,
            "flex": null,
            "flex_flow": null,
            "grid_area": null,
            "grid_auto_columns": null,
            "grid_auto_flow": null,
            "grid_auto_rows": null,
            "grid_column": null,
            "grid_gap": null,
            "grid_row": null,
            "grid_template_areas": null,
            "grid_template_columns": null,
            "grid_template_rows": null,
            "height": null,
            "justify_content": null,
            "justify_items": null,
            "left": null,
            "margin": null,
            "max_height": null,
            "max_width": null,
            "min_height": null,
            "min_width": null,
            "object_fit": null,
            "object_position": null,
            "order": null,
            "overflow": null,
            "overflow_x": null,
            "overflow_y": null,
            "padding": null,
            "right": null,
            "top": null,
            "visibility": null,
            "width": null
          }
        },
        "9c61e314a8084408b6bf7ff12c1dca16": {
          "model_module": "@jupyter-widgets/controls",
          "model_name": "DescriptionStyleModel",
          "model_module_version": "1.5.0",
          "state": {
            "_model_module": "@jupyter-widgets/controls",
            "_model_module_version": "1.5.0",
            "_model_name": "DescriptionStyleModel",
            "_view_count": null,
            "_view_module": "@jupyter-widgets/base",
            "_view_module_version": "1.2.0",
            "_view_name": "StyleView",
            "description_width": ""
          }
        },
        "fc67c31d085e4c12894ec1e27ebbd0fb": {
          "model_module": "@jupyter-widgets/base",
          "model_name": "LayoutModel",
          "model_module_version": "1.2.0",
          "state": {
            "_model_module": "@jupyter-widgets/base",
            "_model_module_version": "1.2.0",
            "_model_name": "LayoutModel",
            "_view_count": null,
            "_view_module": "@jupyter-widgets/base",
            "_view_module_version": "1.2.0",
            "_view_name": "LayoutView",
            "align_content": null,
            "align_items": null,
            "align_self": null,
            "border": null,
            "bottom": null,
            "display": null,
            "flex": null,
            "flex_flow": null,
            "grid_area": null,
            "grid_auto_columns": null,
            "grid_auto_flow": null,
            "grid_auto_rows": null,
            "grid_column": null,
            "grid_gap": null,
            "grid_row": null,
            "grid_template_areas": null,
            "grid_template_columns": null,
            "grid_template_rows": null,
            "height": null,
            "justify_content": null,
            "justify_items": null,
            "left": null,
            "margin": null,
            "max_height": null,
            "max_width": null,
            "min_height": null,
            "min_width": null,
            "object_fit": null,
            "object_position": null,
            "order": null,
            "overflow": null,
            "overflow_x": null,
            "overflow_y": null,
            "padding": null,
            "right": null,
            "top": null,
            "visibility": null,
            "width": null
          }
        },
        "e3c8ca2ed2c042e1909cf18df29fc2fd": {
          "model_module": "@jupyter-widgets/controls",
          "model_name": "ProgressStyleModel",
          "model_module_version": "1.5.0",
          "state": {
            "_model_module": "@jupyter-widgets/controls",
            "_model_module_version": "1.5.0",
            "_model_name": "ProgressStyleModel",
            "_view_count": null,
            "_view_module": "@jupyter-widgets/base",
            "_view_module_version": "1.2.0",
            "_view_name": "StyleView",
            "bar_color": null,
            "description_width": ""
          }
        },
        "903c3aa9cace40eb84b4b38dd1c7fb6b": {
          "model_module": "@jupyter-widgets/base",
          "model_name": "LayoutModel",
          "model_module_version": "1.2.0",
          "state": {
            "_model_module": "@jupyter-widgets/base",
            "_model_module_version": "1.2.0",
            "_model_name": "LayoutModel",
            "_view_count": null,
            "_view_module": "@jupyter-widgets/base",
            "_view_module_version": "1.2.0",
            "_view_name": "LayoutView",
            "align_content": null,
            "align_items": null,
            "align_self": null,
            "border": null,
            "bottom": null,
            "display": null,
            "flex": null,
            "flex_flow": null,
            "grid_area": null,
            "grid_auto_columns": null,
            "grid_auto_flow": null,
            "grid_auto_rows": null,
            "grid_column": null,
            "grid_gap": null,
            "grid_row": null,
            "grid_template_areas": null,
            "grid_template_columns": null,
            "grid_template_rows": null,
            "height": null,
            "justify_content": null,
            "justify_items": null,
            "left": null,
            "margin": null,
            "max_height": null,
            "max_width": null,
            "min_height": null,
            "min_width": null,
            "object_fit": null,
            "object_position": null,
            "order": null,
            "overflow": null,
            "overflow_x": null,
            "overflow_y": null,
            "padding": null,
            "right": null,
            "top": null,
            "visibility": null,
            "width": null
          }
        },
        "9d6d3418ba78499bb1ddb2feef1de5d8": {
          "model_module": "@jupyter-widgets/controls",
          "model_name": "DescriptionStyleModel",
          "model_module_version": "1.5.0",
          "state": {
            "_model_module": "@jupyter-widgets/controls",
            "_model_module_version": "1.5.0",
            "_model_name": "DescriptionStyleModel",
            "_view_count": null,
            "_view_module": "@jupyter-widgets/base",
            "_view_module_version": "1.2.0",
            "_view_name": "StyleView",
            "description_width": ""
          }
        },
        "6a371b81591b444da6d9a1b68d6456bb": {
          "model_module": "@jupyter-widgets/controls",
          "model_name": "HBoxModel",
          "model_module_version": "1.5.0",
          "state": {
            "_dom_classes": [],
            "_model_module": "@jupyter-widgets/controls",
            "_model_module_version": "1.5.0",
            "_model_name": "HBoxModel",
            "_view_count": null,
            "_view_module": "@jupyter-widgets/controls",
            "_view_module_version": "1.5.0",
            "_view_name": "HBoxView",
            "box_style": "",
            "children": [
              "IPY_MODEL_c7ceced607544bbf8c0f043640cfd6b1",
              "IPY_MODEL_061af5ba14e840db80b76b708cbfe072",
              "IPY_MODEL_4e8abb47ec214fe396ebefb58bc793f9"
            ],
            "layout": "IPY_MODEL_f450d7fccd4744dbbf9b5551a16c18c1"
          }
        },
        "c7ceced607544bbf8c0f043640cfd6b1": {
          "model_module": "@jupyter-widgets/controls",
          "model_name": "HTMLModel",
          "model_module_version": "1.5.0",
          "state": {
            "_dom_classes": [],
            "_model_module": "@jupyter-widgets/controls",
            "_model_module_version": "1.5.0",
            "_model_name": "HTMLModel",
            "_view_count": null,
            "_view_module": "@jupyter-widgets/controls",
            "_view_module_version": "1.5.0",
            "_view_name": "HTMLView",
            "description": "",
            "description_tooltip": null,
            "layout": "IPY_MODEL_23d5f4eb8db3444c9174967ff36321bb",
            "placeholder": "​",
            "style": "IPY_MODEL_abd25da791d64fa9be3a6df4b27bcd08",
            "value": "Map: 100%"
          }
        },
        "061af5ba14e840db80b76b708cbfe072": {
          "model_module": "@jupyter-widgets/controls",
          "model_name": "FloatProgressModel",
          "model_module_version": "1.5.0",
          "state": {
            "_dom_classes": [],
            "_model_module": "@jupyter-widgets/controls",
            "_model_module_version": "1.5.0",
            "_model_name": "FloatProgressModel",
            "_view_count": null,
            "_view_module": "@jupyter-widgets/controls",
            "_view_module_version": "1.5.0",
            "_view_name": "ProgressView",
            "bar_style": "success",
            "description": "",
            "description_tooltip": null,
            "layout": "IPY_MODEL_cd6f8112eb704e52a418115e69acff1b",
            "max": 100,
            "min": 0,
            "orientation": "horizontal",
            "style": "IPY_MODEL_c265b481cbf747ffa7ecb1c676da8bb1",
            "value": 100
          }
        },
        "4e8abb47ec214fe396ebefb58bc793f9": {
          "model_module": "@jupyter-widgets/controls",
          "model_name": "HTMLModel",
          "model_module_version": "1.5.0",
          "state": {
            "_dom_classes": [],
            "_model_module": "@jupyter-widgets/controls",
            "_model_module_version": "1.5.0",
            "_model_name": "HTMLModel",
            "_view_count": null,
            "_view_module": "@jupyter-widgets/controls",
            "_view_module_version": "1.5.0",
            "_view_name": "HTMLView",
            "description": "",
            "description_tooltip": null,
            "layout": "IPY_MODEL_953391ea94fc42929c6f535857853689",
            "placeholder": "​",
            "style": "IPY_MODEL_e395a350c9e8498e98b668aa382dbcf6",
            "value": " 100/100 [00:00&lt;00:00, 1514.71 examples/s]"
          }
        },
        "f450d7fccd4744dbbf9b5551a16c18c1": {
          "model_module": "@jupyter-widgets/base",
          "model_name": "LayoutModel",
          "model_module_version": "1.2.0",
          "state": {
            "_model_module": "@jupyter-widgets/base",
            "_model_module_version": "1.2.0",
            "_model_name": "LayoutModel",
            "_view_count": null,
            "_view_module": "@jupyter-widgets/base",
            "_view_module_version": "1.2.0",
            "_view_name": "LayoutView",
            "align_content": null,
            "align_items": null,
            "align_self": null,
            "border": null,
            "bottom": null,
            "display": null,
            "flex": null,
            "flex_flow": null,
            "grid_area": null,
            "grid_auto_columns": null,
            "grid_auto_flow": null,
            "grid_auto_rows": null,
            "grid_column": null,
            "grid_gap": null,
            "grid_row": null,
            "grid_template_areas": null,
            "grid_template_columns": null,
            "grid_template_rows": null,
            "height": null,
            "justify_content": null,
            "justify_items": null,
            "left": null,
            "margin": null,
            "max_height": null,
            "max_width": null,
            "min_height": null,
            "min_width": null,
            "object_fit": null,
            "object_position": null,
            "order": null,
            "overflow": null,
            "overflow_x": null,
            "overflow_y": null,
            "padding": null,
            "right": null,
            "top": null,
            "visibility": null,
            "width": null
          }
        },
        "23d5f4eb8db3444c9174967ff36321bb": {
          "model_module": "@jupyter-widgets/base",
          "model_name": "LayoutModel",
          "model_module_version": "1.2.0",
          "state": {
            "_model_module": "@jupyter-widgets/base",
            "_model_module_version": "1.2.0",
            "_model_name": "LayoutModel",
            "_view_count": null,
            "_view_module": "@jupyter-widgets/base",
            "_view_module_version": "1.2.0",
            "_view_name": "LayoutView",
            "align_content": null,
            "align_items": null,
            "align_self": null,
            "border": null,
            "bottom": null,
            "display": null,
            "flex": null,
            "flex_flow": null,
            "grid_area": null,
            "grid_auto_columns": null,
            "grid_auto_flow": null,
            "grid_auto_rows": null,
            "grid_column": null,
            "grid_gap": null,
            "grid_row": null,
            "grid_template_areas": null,
            "grid_template_columns": null,
            "grid_template_rows": null,
            "height": null,
            "justify_content": null,
            "justify_items": null,
            "left": null,
            "margin": null,
            "max_height": null,
            "max_width": null,
            "min_height": null,
            "min_width": null,
            "object_fit": null,
            "object_position": null,
            "order": null,
            "overflow": null,
            "overflow_x": null,
            "overflow_y": null,
            "padding": null,
            "right": null,
            "top": null,
            "visibility": null,
            "width": null
          }
        },
        "abd25da791d64fa9be3a6df4b27bcd08": {
          "model_module": "@jupyter-widgets/controls",
          "model_name": "DescriptionStyleModel",
          "model_module_version": "1.5.0",
          "state": {
            "_model_module": "@jupyter-widgets/controls",
            "_model_module_version": "1.5.0",
            "_model_name": "DescriptionStyleModel",
            "_view_count": null,
            "_view_module": "@jupyter-widgets/base",
            "_view_module_version": "1.2.0",
            "_view_name": "StyleView",
            "description_width": ""
          }
        },
        "cd6f8112eb704e52a418115e69acff1b": {
          "model_module": "@jupyter-widgets/base",
          "model_name": "LayoutModel",
          "model_module_version": "1.2.0",
          "state": {
            "_model_module": "@jupyter-widgets/base",
            "_model_module_version": "1.2.0",
            "_model_name": "LayoutModel",
            "_view_count": null,
            "_view_module": "@jupyter-widgets/base",
            "_view_module_version": "1.2.0",
            "_view_name": "LayoutView",
            "align_content": null,
            "align_items": null,
            "align_self": null,
            "border": null,
            "bottom": null,
            "display": null,
            "flex": null,
            "flex_flow": null,
            "grid_area": null,
            "grid_auto_columns": null,
            "grid_auto_flow": null,
            "grid_auto_rows": null,
            "grid_column": null,
            "grid_gap": null,
            "grid_row": null,
            "grid_template_areas": null,
            "grid_template_columns": null,
            "grid_template_rows": null,
            "height": null,
            "justify_content": null,
            "justify_items": null,
            "left": null,
            "margin": null,
            "max_height": null,
            "max_width": null,
            "min_height": null,
            "min_width": null,
            "object_fit": null,
            "object_position": null,
            "order": null,
            "overflow": null,
            "overflow_x": null,
            "overflow_y": null,
            "padding": null,
            "right": null,
            "top": null,
            "visibility": null,
            "width": null
          }
        },
        "c265b481cbf747ffa7ecb1c676da8bb1": {
          "model_module": "@jupyter-widgets/controls",
          "model_name": "ProgressStyleModel",
          "model_module_version": "1.5.0",
          "state": {
            "_model_module": "@jupyter-widgets/controls",
            "_model_module_version": "1.5.0",
            "_model_name": "ProgressStyleModel",
            "_view_count": null,
            "_view_module": "@jupyter-widgets/base",
            "_view_module_version": "1.2.0",
            "_view_name": "StyleView",
            "bar_color": null,
            "description_width": ""
          }
        },
        "953391ea94fc42929c6f535857853689": {
          "model_module": "@jupyter-widgets/base",
          "model_name": "LayoutModel",
          "model_module_version": "1.2.0",
          "state": {
            "_model_module": "@jupyter-widgets/base",
            "_model_module_version": "1.2.0",
            "_model_name": "LayoutModel",
            "_view_count": null,
            "_view_module": "@jupyter-widgets/base",
            "_view_module_version": "1.2.0",
            "_view_name": "LayoutView",
            "align_content": null,
            "align_items": null,
            "align_self": null,
            "border": null,
            "bottom": null,
            "display": null,
            "flex": null,
            "flex_flow": null,
            "grid_area": null,
            "grid_auto_columns": null,
            "grid_auto_flow": null,
            "grid_auto_rows": null,
            "grid_column": null,
            "grid_gap": null,
            "grid_row": null,
            "grid_template_areas": null,
            "grid_template_columns": null,
            "grid_template_rows": null,
            "height": null,
            "justify_content": null,
            "justify_items": null,
            "left": null,
            "margin": null,
            "max_height": null,
            "max_width": null,
            "min_height": null,
            "min_width": null,
            "object_fit": null,
            "object_position": null,
            "order": null,
            "overflow": null,
            "overflow_x": null,
            "overflow_y": null,
            "padding": null,
            "right": null,
            "top": null,
            "visibility": null,
            "width": null
          }
        },
        "e395a350c9e8498e98b668aa382dbcf6": {
          "model_module": "@jupyter-widgets/controls",
          "model_name": "DescriptionStyleModel",
          "model_module_version": "1.5.0",
          "state": {
            "_model_module": "@jupyter-widgets/controls",
            "_model_module_version": "1.5.0",
            "_model_name": "DescriptionStyleModel",
            "_view_count": null,
            "_view_module": "@jupyter-widgets/base",
            "_view_module_version": "1.2.0",
            "_view_name": "StyleView",
            "description_width": ""
          }
        }
      }
    }
  },
  "nbformat": 4,
  "nbformat_minor": 0
}