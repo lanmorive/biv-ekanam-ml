{
 "cells": [
  {
   "cell_type": "code",
   "execution_count": 1,
   "id": "a5d37abd",
   "metadata": {},
   "outputs": [
    {
     "name": "stdout",
     "output_type": "stream",
     "text": [
      "Requirement already satisfied: natasha in c:\\programdata\\anaconda\\lib\\site-packages (1.6.0)\n",
      "Requirement already satisfied: razdel>=0.5.0 in c:\\programdata\\anaconda\\lib\\site-packages (from natasha) (0.5.0)\n",
      "Requirement already satisfied: yargy>=0.16.0 in c:\\programdata\\anaconda\\lib\\site-packages (from natasha) (0.16.0)\n",
      "Requirement already satisfied: pymorphy2 in c:\\programdata\\anaconda\\lib\\site-packages (from natasha) (0.9.1)\n",
      "Requirement already satisfied: ipymarkup>=0.8.0 in c:\\programdata\\anaconda\\lib\\site-packages (from natasha) (0.9.0)\n",
      "Requirement already satisfied: slovnet>=0.6.0 in c:\\programdata\\anaconda\\lib\\site-packages (from natasha) (0.6.0)\n",
      "Requirement already satisfied: navec>=0.9.0 in c:\\programdata\\anaconda\\lib\\site-packages (from natasha) (0.10.0)\n",
      "Requirement already satisfied: intervaltree>=3 in c:\\programdata\\anaconda\\lib\\site-packages (from ipymarkup>=0.8.0->natasha) (3.1.0)\n",
      "Requirement already satisfied: numpy in c:\\programdata\\anaconda\\lib\\site-packages (from navec>=0.9.0->natasha) (1.23.5)\n",
      "Requirement already satisfied: pymorphy2-dicts-ru<3.0,>=2.4 in c:\\programdata\\anaconda\\lib\\site-packages (from pymorphy2->natasha) (2.4.417127.4579844)\n",
      "Requirement already satisfied: docopt>=0.6 in c:\\programdata\\anaconda\\lib\\site-packages (from pymorphy2->natasha) (0.6.2)\n",
      "Requirement already satisfied: dawg-python>=0.7.1 in c:\\programdata\\anaconda\\lib\\site-packages (from pymorphy2->natasha) (0.7.2)\n",
      "Requirement already satisfied: sortedcontainers<3.0,>=2.0 in c:\\programdata\\anaconda\\lib\\site-packages (from intervaltree>=3->ipymarkup>=0.8.0->natasha) (2.4.0)\n"
     ]
    }
   ],
   "source": [
    "!pip install natasha"
   ]
  },
  {
   "cell_type": "code",
   "execution_count": 2,
   "id": "d4650874",
   "metadata": {},
   "outputs": [
    {
     "name": "stderr",
     "output_type": "stream",
     "text": [
      "[nltk_data] Downloading package stopwords to\n",
      "[nltk_data]     C:\\Users\\a.n.piskunov\\AppData\\Roaming\\nltk_data...\n",
      "[nltk_data]   Package stopwords is already up-to-date!\n"
     ]
    }
   ],
   "source": [
    "import csv\n",
    "import tensorflow as tf\n",
    "import pandas as pd\n",
    "import numpy as np\n",
    "import matplotlib.pyplot as plt\n",
    "import seaborn as sns\n",
    "import re\n",
    "from tensorflow.keras.preprocessing.text import Tokenizer\n",
    "from tensorflow.keras.preprocessing.sequence import pad_sequences\n",
    "from tensorflow.keras.models import Sequential\n",
    "from tensorflow.keras.layers import Dense, Flatten, LSTM, Dropout, Activation, Embedding,SimpleRNN,GRU\n",
    "import nltk\n",
    "nltk.download('stopwords')\n",
    "from nltk.corpus import stopwords\n",
    "from nltk import word_tokenize\n",
    "STOPWORDS = set(stopwords.words('russian'))\n",
    "from string import punctuation\n",
    "punct = list(punctuation)\n",
    "from tqdm import tqdm\n",
    "from keras.callbacks import ReduceLROnPlateau,EarlyStopping\n",
    "from sklearn.metrics import classification_report\n",
    "from sklearn.metrics import confusion_matrix\n",
    "from sklearn.metrics import classification_report, roc_auc_score\n",
    "from scipy import stats\n",
    "from tensorflow.keras.models import Sequential\n",
    "from tensorflow.keras.layers import Embedding, GRU, Dense, Dropout, Bidirectional\n",
    "from tensorflow.keras.callbacks import ReduceLROnPlateau, EarlyStopping\n",
    "from sklearn.utils import resample\n",
    "\n",
    "\n",
    "np.random.seed(42)\n",
    "tf.random.set_seed(42)\n"
   ]
  },
  {
   "cell_type": "code",
   "execution_count": 3,
   "id": "aae41255",
   "metadata": {},
   "outputs": [],
   "source": [
    "data_test = pd.read_csv(r'C:\\Users\\a.n.piskunov\\Downloads\\test.csv')\n",
    "data_train = pd.read_csv(r'C:\\Users\\a.n.piskunov\\Downloads\\train.csv')\n"
   ]
  },
  {
   "cell_type": "code",
   "execution_count": 4,
   "id": "7f9b00b9",
   "metadata": {},
   "outputs": [],
   "source": [
    "articles_test=data_test['text'].to_list()\n",
    "articles_train=data_train['text'].to_list()\n",
    "labels_train=data_train['class'].to_list()\n",
    "labels_test=data_test['class'].to_list()"
   ]
  },
  {
   "cell_type": "code",
   "execution_count": 5,
   "id": "e5674547",
   "metadata": {},
   "outputs": [],
   "source": [
    "from natasha import Doc, Segmenter, MorphVocab\n",
    "from natasha import NewsEmbedding, NewsMorphTagger\n",
    "import re\n",
    "import string\n",
    "from nltk.tokenize import word_tokenize\n",
    "from nltk.corpus import stopwords\n",
    "\n",
    "# Инициализация компонентов Natasha\n",
    "segmenter = Segmenter()\n",
    "morph_vocab = MorphVocab()\n",
    "emb = NewsEmbedding()\n",
    "morph_tagger = NewsMorphTagger(emb)\n",
    "\n",
    "# Список месяцев\n",
    "months = [\n",
    "    \"январь\", \"февраль\", \"март\", \"апрель\", \"май\", \"июнь\",\n",
    "    \"июль\", \"август\", \"сентябрь\", \"октябрь\", \"ноябрь\", \"декабрь\"\n",
    "]\n",
    "\n",
    "# Стоп-слова\n",
    "russian_stopwords = set(stopwords.words(\"russian\"))\n",
    "russian_stopwords.discard('за')  # Убираем из стоп-слов \"за\"\n",
    "russian_stopwords.update(['кг', 'сумма', 'тч', 'мл', 'счёт'])  # Добавляем свои слова\n",
    "\n",
    "# Функция очистки текста\n",
    "def clear(text, russian_stopwords, segmenter, morph_vocab, morph_tagger, months):\n",
    "    # Удаляем даты из текста\n",
    "    date_pattern = r\"(\\d{0,4}[./-]?)\"\n",
    "    cleaned_text = re.sub(date_pattern, \"\", text)\n",
    "    \n",
    "    # Токенизация и удаление стоп-слов\n",
    "    tokens = word_tokenize(cleaned_text.lower())\n",
    "    tokens = [token for token in tokens if token not in russian_stopwords]\n",
    "    tokens = [token for token in tokens if token not in string.punctuation]\n",
    "    cleaned_text = ' '.join(tokens)\n",
    "    \n",
    "    # Используем Natasha для морфологической обработки\n",
    "    doc = Doc(cleaned_text)\n",
    "    doc.segment(segmenter)\n",
    "    doc.tag_morph(morph_tagger)\n",
    "    \n",
    "    # Лемматизация\n",
    "    for token in doc.tokens:\n",
    "        token.lemmatize(morph_vocab)\n",
    "    \n",
    "    # Убираем месяцы и короткие слова\n",
    "    lemmas = [token.lemma for token in doc.tokens if token.lemma not in months and len(token.lemma) > 1]\n",
    "    \n",
    "    return ' '.join(lemmas)"
   ]
  },
  {
   "cell_type": "code",
   "execution_count": 6,
   "id": "15f05721",
   "metadata": {},
   "outputs": [
    {
     "name": "stderr",
     "output_type": "stream",
     "text": [
      "100%|███████████████████████████████████████████████████████████████████████████████| 100/100 [00:00<00:00, 148.25it/s]\n",
      "100%|███████████████████████████████████████████████████████████████████████████████| 400/400 [00:02<00:00, 190.57it/s]\n"
     ]
    }
   ],
   "source": [
    "for i in tqdm(range(len(articles_test))):\n",
    "    articles_test[i]=clear(articles_test[i], russian_stopwords, segmenter, morph_vocab, morph_tagger, months)\n",
    "    \n",
    "for i in tqdm(range(len(articles_train))):\n",
    "    articles_train[i]=clear(articles_train[i], russian_stopwords, segmenter, morph_vocab, morph_tagger, months)"
   ]
  },
  {
   "cell_type": "code",
   "execution_count": 7,
   "id": "976d563d",
   "metadata": {},
   "outputs": [],
   "source": [
    "vocab_size =5000\n",
    "embedding_dim =64\n",
    "max_length =200\n",
    "oov_tok = '<OOV>' "
   ]
  },
  {
   "cell_type": "code",
   "execution_count": 8,
   "id": "127c1cc1",
   "metadata": {},
   "outputs": [],
   "source": [
    "train_articles = articles_train\n",
    "train_labels = labels_train\n",
    "validation_articles = articles_test\n",
    "validation_labels = labels_test"
   ]
  },
  {
   "cell_type": "code",
   "execution_count": 9,
   "id": "a6780a1a",
   "metadata": {},
   "outputs": [
    {
     "name": "stdout",
     "output_type": "stream",
     "text": [
      "train_articles 400\n",
      "train_labels 400\n",
      "validation_articles 100\n",
      "validation_labels 100\n"
     ]
    }
   ],
   "source": [
    "print('train_articles' ,len(train_articles))\n",
    "print('train_labels', len(train_labels))\n",
    "print('validation_articles', len(validation_articles))\n",
    "print('validation_labels', len(validation_labels))"
   ]
  },
  {
   "cell_type": "code",
   "execution_count": 10,
   "id": "ab5f9ef8",
   "metadata": {},
   "outputs": [],
   "source": [
    "tokenizer = Tokenizer(num_words = vocab_size)\n",
    "tokenizer.fit_on_texts(train_articles)\n",
    "word_index = tokenizer.word_index"
   ]
  },
  {
   "cell_type": "code",
   "execution_count": 11,
   "id": "6c0152a7",
   "metadata": {},
   "outputs": [
    {
     "data": {
      "text/plain": [
       "400"
      ]
     },
     "execution_count": 11,
     "metadata": {},
     "output_type": "execute_result"
    }
   ],
   "source": [
    "train_sequences = tokenizer.texts_to_sequences(train_articles)\n",
    "len(train_sequences)"
   ]
  },
  {
   "cell_type": "code",
   "execution_count": 12,
   "id": "da8c7f75",
   "metadata": {},
   "outputs": [],
   "source": [
    "train_padded = pad_sequences(train_sequences, maxlen=max_length)"
   ]
  },
  {
   "cell_type": "code",
   "execution_count": 13,
   "id": "9ca77431",
   "metadata": {},
   "outputs": [
    {
     "data": {
      "text/plain": [
       "(400, 200)"
      ]
     },
     "execution_count": 13,
     "metadata": {},
     "output_type": "execute_result"
    }
   ],
   "source": [
    "len(train_padded),len(train_padded[0])"
   ]
  },
  {
   "cell_type": "code",
   "execution_count": 14,
   "id": "fe7bb544",
   "metadata": {},
   "outputs": [],
   "source": [
    "validation_sequences = tokenizer.texts_to_sequences(validation_articles)\n",
    "validation_padded = pad_sequences(validation_sequences, maxlen=max_length)"
   ]
  },
  {
   "cell_type": "code",
   "execution_count": 15,
   "id": "56f0b73e",
   "metadata": {},
   "outputs": [
    {
     "name": "stderr",
     "output_type": "stream",
     "text": [
      "9it [00:00, ?it/s]\n"
     ]
    },
    {
     "data": {
      "text/plain": [
       "{'FOOD_GOODS': 0,\n",
       " 'BANK_SERVICE': 1,\n",
       " 'LEASING': 2,\n",
       " 'NOT_CLASSIFIED': 3,\n",
       " 'LOAN': 4,\n",
       " 'REALE_STATE': 5,\n",
       " 'SERVICE': 6,\n",
       " 'TAX': 7,\n",
       " 'NON_FOOD_GOODS': 8}"
      ]
     },
     "execution_count": 15,
     "metadata": {},
     "output_type": "execute_result"
    }
   ],
   "source": [
    "dict_={}\n",
    "for i,x in tqdm(enumerate(set(labels_train))):\n",
    "    dict_[x]=i\n",
    "dict_"
   ]
  },
  {
   "cell_type": "code",
   "execution_count": 16,
   "id": "9f272c58",
   "metadata": {},
   "outputs": [
    {
     "name": "stderr",
     "output_type": "stream",
     "text": [
      "100%|████████████████████████████████████████████████████████████████████████████| 400/400 [00:00<00:00, 386750.02it/s]\n",
      "100%|█████████████████████████████████████████████████████████████████████████████| 100/100 [00:00<00:00, 11150.62it/s]\n"
     ]
    }
   ],
   "source": [
    "training_label_seq = np.array([dict_[train_labels[i]] for i in tqdm(range(len(train_labels)))])\n",
    "validation_label_seq = np.array([dict_[np.array(validation_labels)[i]] for i in tqdm(range(len(validation_labels)))])\n"
   ]
  },
  {
   "cell_type": "code",
   "execution_count": 17,
   "id": "3f2e8955",
   "metadata": {},
   "outputs": [
    {
     "data": {
      "text/plain": [
       "('TAX', 7)"
      ]
     },
     "execution_count": 17,
     "metadata": {},
     "output_type": "execute_result"
    }
   ],
   "source": [
    "train_labels[0], training_label_seq[0]\n"
   ]
  },
  {
   "cell_type": "code",
   "execution_count": 18,
   "id": "3b6b1835",
   "metadata": {},
   "outputs": [
    {
     "data": {
      "text/plain": [
       "8    77\n",
       "0    72\n",
       "6    70\n",
       "1    39\n",
       "7    38\n",
       "4    33\n",
       "2    31\n",
       "5    22\n",
       "3    18\n",
       "dtype: int64"
      ]
     },
     "execution_count": 18,
     "metadata": {},
     "output_type": "execute_result"
    }
   ],
   "source": [
    "pd.DataFrame(training_label_seq).value_counts()\n"
   ]
  },
  {
   "cell_type": "code",
   "execution_count": 19,
   "id": "01b57db8",
   "metadata": {},
   "outputs": [
    {
     "data": {
      "text/plain": [
       "8    19\n",
       "0    18\n",
       "6    18\n",
       "1    10\n",
       "7    10\n",
       "4     8\n",
       "2     7\n",
       "3     5\n",
       "5     5\n",
       "dtype: int64"
      ]
     },
     "execution_count": 19,
     "metadata": {},
     "output_type": "execute_result"
    }
   ],
   "source": [
    "pd.DataFrame(validation_label_seq).value_counts()\n"
   ]
  },
  {
   "cell_type": "code",
   "execution_count": 20,
   "id": "9a483783",
   "metadata": {},
   "outputs": [
    {
     "data": {
      "text/plain": [
       "Text(0, 0.5, 'Count')"
      ]
     },
     "execution_count": 20,
     "metadata": {},
     "output_type": "execute_result"
    },
    {
     "data": {
      "image/png": "[encoded data removed]",
      "text/plain": [
       "<Figure size 2000x500 with 2 Axes>"
      ]
     },
     "metadata": {},
     "output_type": "display_data"
    }
   ],
   "source": [
    "plt.figure(figsize=(20,5))\n",
    "plt.subplot(1,2,1)\n",
    "plt.title(\"Distribution Of Train\",fontsize=20)\n",
    "sns.histplot(training_label_seq,color='red')\n",
    "plt.xlabel('Label',fontsize=20)\n",
    "plt.ylabel(\"Count\",fontsize=20)\n",
    "plt.subplot(1,2,2)\n",
    "plt.title(\"Distribution Of Test\",fontsize=20)\n",
    "sns.histplot(validation_label_seq,color='red')\n",
    "plt.xlabel('Label',fontsize=20)\n",
    "plt.ylabel(\"Count\",fontsize=20)"
   ]
  },
  {
   "cell_type": "code",
   "execution_count": 21,
   "id": "719041db",
   "metadata": {},
   "outputs": [
    {
     "name": "stdout",
     "output_type": "stream",
     "text": [
      "Train padded shape: (400, 200)\n",
      "Training labels shape: (400,)\n",
      "Unique labels in training data: [0 1 2 3 4 5 6 7 8]\n",
      "Epoch 1/50\n"
     ]
    },
    {
     "name": "stderr",
     "output_type": "stream",
     "text": [
      "C:\\ProgramData\\Anaconda\\lib\\site-packages\\keras\\src\\layers\\core\\embedding.py:90: UserWarning: Argument `input_length` is deprecated. Just remove it.\n",
      "  warnings.warn(\n"
     ]
    },
    {
     "name": "stdout",
     "output_type": "stream",
     "text": [
      "\u001b[1m13/13\u001b[0m \u001b[32m━━━━━━━━━━━━━━━━━━━━\u001b[0m\u001b[37m\u001b[0m \u001b[1m7s\u001b[0m 188ms/step - accuracy: 0.2270 - loss: 2.1549 - val_accuracy: 0.3700 - val_loss: 2.0007 - learning_rate: 0.0010\n",
      "Epoch 2/50\n",
      "\u001b[1m13/13\u001b[0m \u001b[32m━━━━━━━━━━━━━━━━━━━━\u001b[0m\u001b[37m\u001b[0m \u001b[1m2s\u001b[0m 135ms/step - accuracy: 0.4006 - loss: 1.9542 - val_accuracy: 0.4500 - val_loss: 1.7702 - learning_rate: 0.0010\n",
      "Epoch 3/50\n",
      "\u001b[1m13/13\u001b[0m \u001b[32m━━━━━━━━━━━━━━━━━━━━\u001b[0m\u001b[37m\u001b[0m \u001b[1m2s\u001b[0m 130ms/step - accuracy: 0.4597 - loss: 1.6523 - val_accuracy: 0.5200 - val_loss: 1.2666 - learning_rate: 0.0010\n",
      "Epoch 4/50\n",
      "\u001b[1m13/13\u001b[0m \u001b[32m━━━━━━━━━━━━━━━━━━━━\u001b[0m\u001b[37m\u001b[0m \u001b[1m2s\u001b[0m 130ms/step - accuracy: 0.5862 - loss: 1.1257 - val_accuracy: 0.7000 - val_loss: 0.8772 - learning_rate: 0.0010\n",
      "Epoch 5/50\n",
      "\u001b[1m13/13\u001b[0m \u001b[32m━━━━━━━━━━━━━━━━━━━━\u001b[0m\u001b[37m\u001b[0m \u001b[1m2s\u001b[0m 134ms/step - accuracy: 0.8091 - loss: 0.7159 - val_accuracy: 0.8000 - val_loss: 0.5641 - learning_rate: 0.0010\n",
      "Epoch 6/50\n",
      "\u001b[1m13/13\u001b[0m \u001b[32m━━━━━━━━━━━━━━━━━━━━\u001b[0m\u001b[37m\u001b[0m \u001b[1m2s\u001b[0m 143ms/step - accuracy: 0.8832 - loss: 0.4203 - val_accuracy: 0.8400 - val_loss: 0.4434 - learning_rate: 0.0010\n",
      "Epoch 7/50\n",
      "\u001b[1m13/13\u001b[0m \u001b[32m━━━━━━━━━━━━━━━━━━━━\u001b[0m\u001b[37m\u001b[0m \u001b[1m2s\u001b[0m 140ms/step - accuracy: 0.9438 - loss: 0.2502 - val_accuracy: 0.9200 - val_loss: 0.2915 - learning_rate: 0.0010\n",
      "Epoch 8/50\n",
      "\u001b[1m13/13\u001b[0m \u001b[32m━━━━━━━━━━━━━━━━━━━━\u001b[0m\u001b[37m\u001b[0m \u001b[1m2s\u001b[0m 131ms/step - accuracy: 0.9697 - loss: 0.1406 - val_accuracy: 0.9200 - val_loss: 0.2347 - learning_rate: 0.0010\n",
      "Epoch 9/50\n",
      "\u001b[1m13/13\u001b[0m \u001b[32m━━━━━━━━━━━━━━━━━━━━\u001b[0m\u001b[37m\u001b[0m \u001b[1m2s\u001b[0m 130ms/step - accuracy: 0.9909 - loss: 0.0857 - val_accuracy: 0.9300 - val_loss: 0.2063 - learning_rate: 0.0010\n",
      "Epoch 10/50\n",
      "\u001b[1m13/13\u001b[0m \u001b[32m━━━━━━━━━━━━━━━━━━━━\u001b[0m\u001b[37m\u001b[0m \u001b[1m2s\u001b[0m 134ms/step - accuracy: 0.9909 - loss: 0.0543 - val_accuracy: 0.9300 - val_loss: 0.1673 - learning_rate: 0.0010\n",
      "Epoch 11/50\n",
      "\u001b[1m13/13\u001b[0m \u001b[32m━━━━━━━━━━━━━━━━━━━━\u001b[0m\u001b[37m\u001b[0m \u001b[1m2s\u001b[0m 134ms/step - accuracy: 0.9982 - loss: 0.0388 - val_accuracy: 0.9500 - val_loss: 0.1489 - learning_rate: 0.0010\n",
      "Epoch 12/50\n",
      "\u001b[1m13/13\u001b[0m \u001b[32m━━━━━━━━━━━━━━━━━━━━\u001b[0m\u001b[37m\u001b[0m \u001b[1m2s\u001b[0m 133ms/step - accuracy: 0.9927 - loss: 0.0327 - val_accuracy: 0.9400 - val_loss: 0.1223 - learning_rate: 0.0010\n",
      "Epoch 13/50\n",
      "\u001b[1m13/13\u001b[0m \u001b[32m━━━━━━━━━━━━━━━━━━━━\u001b[0m\u001b[37m\u001b[0m \u001b[1m2s\u001b[0m 131ms/step - accuracy: 1.0000 - loss: 0.0197 - val_accuracy: 0.9500 - val_loss: 0.1161 - learning_rate: 0.0010\n",
      "Epoch 14/50\n",
      "\u001b[1m13/13\u001b[0m \u001b[32m━━━━━━━━━━━━━━━━━━━━\u001b[0m\u001b[37m\u001b[0m \u001b[1m2s\u001b[0m 129ms/step - accuracy: 1.0000 - loss: 0.0160 - val_accuracy: 0.9500 - val_loss: 0.1382 - learning_rate: 0.0010\n",
      "Epoch 15/50\n",
      "\u001b[1m13/13\u001b[0m \u001b[32m━━━━━━━━━━━━━━━━━━━━\u001b[0m\u001b[37m\u001b[0m \u001b[1m2s\u001b[0m 136ms/step - accuracy: 1.0000 - loss: 0.0124 - val_accuracy: 0.9600 - val_loss: 0.1083 - learning_rate: 0.0010\n",
      "Epoch 16/50\n",
      "\u001b[1m13/13\u001b[0m \u001b[32m━━━━━━━━━━━━━━━━━━━━\u001b[0m\u001b[37m\u001b[0m \u001b[1m2s\u001b[0m 134ms/step - accuracy: 1.0000 - loss: 0.0101 - val_accuracy: 0.9600 - val_loss: 0.0945 - learning_rate: 0.0010\n",
      "Epoch 17/50\n",
      "\u001b[1m13/13\u001b[0m \u001b[32m━━━━━━━━━━━━━━━━━━━━\u001b[0m\u001b[37m\u001b[0m \u001b[1m2s\u001b[0m 131ms/step - accuracy: 1.0000 - loss: 0.0092 - val_accuracy: 0.9600 - val_loss: 0.1086 - learning_rate: 0.0010\n",
      "Epoch 18/50\n",
      "\u001b[1m13/13\u001b[0m \u001b[32m━━━━━━━━━━━━━━━━━━━━\u001b[0m\u001b[37m\u001b[0m \u001b[1m2s\u001b[0m 131ms/step - accuracy: 1.0000 - loss: 0.0083 - val_accuracy: 0.9600 - val_loss: 0.1126 - learning_rate: 0.0010\n",
      "Epoch 19/50\n",
      "\u001b[1m13/13\u001b[0m \u001b[32m━━━━━━━━━━━━━━━━━━━━\u001b[0m\u001b[37m\u001b[0m \u001b[1m2s\u001b[0m 131ms/step - accuracy: 1.0000 - loss: 0.0065 - val_accuracy: 0.9600 - val_loss: 0.1050 - learning_rate: 0.0010\n",
      "Epoch 20/50\n",
      "\u001b[1m13/13\u001b[0m \u001b[32m━━━━━━━━━━━━━━━━━━━━\u001b[0m\u001b[37m\u001b[0m \u001b[1m2s\u001b[0m 129ms/step - accuracy: 1.0000 - loss: 0.0062 - val_accuracy: 0.9600 - val_loss: 0.0979 - learning_rate: 0.0010\n",
      "Epoch 21/50\n",
      "\u001b[1m13/13\u001b[0m \u001b[32m━━━━━━━━━━━━━━━━━━━━\u001b[0m\u001b[37m\u001b[0m \u001b[1m2s\u001b[0m 132ms/step - accuracy: 1.0000 - loss: 0.0045 - val_accuracy: 0.9500 - val_loss: 0.1159 - learning_rate: 0.0010\n",
      "Epoch 22/50\n",
      "\u001b[1m13/13\u001b[0m \u001b[32m━━━━━━━━━━━━━━━━━━━━\u001b[0m\u001b[37m\u001b[0m \u001b[1m2s\u001b[0m 129ms/step - accuracy: 1.0000 - loss: 0.0055 - val_accuracy: 0.9600 - val_loss: 0.1078 - learning_rate: 2.0000e-04\n",
      "Epoch 23/50\n",
      "\u001b[1m13/13\u001b[0m \u001b[32m━━━━━━━━━━━━━━━━━━━━\u001b[0m\u001b[37m\u001b[0m \u001b[1m2s\u001b[0m 136ms/step - accuracy: 1.0000 - loss: 0.0044 - val_accuracy: 0.9600 - val_loss: 0.1042 - learning_rate: 2.0000e-04\n",
      "Epoch 24/50\n",
      "\u001b[1m13/13\u001b[0m \u001b[32m━━━━━━━━━━━━━━━━━━━━\u001b[0m\u001b[37m\u001b[0m \u001b[1m2s\u001b[0m 135ms/step - accuracy: 1.0000 - loss: 0.0039 - val_accuracy: 0.9600 - val_loss: 0.1075 - learning_rate: 2.0000e-04\n",
      "Epoch 25/50\n",
      "\u001b[1m13/13\u001b[0m \u001b[32m━━━━━━━━━━━━━━━━━━━━\u001b[0m\u001b[37m\u001b[0m \u001b[1m2s\u001b[0m 132ms/step - accuracy: 1.0000 - loss: 0.0041 - val_accuracy: 0.9600 - val_loss: 0.1083 - learning_rate: 2.0000e-04\n",
      "Epoch 26/50\n",
      "\u001b[1m13/13\u001b[0m \u001b[32m━━━━━━━━━━━━━━━━━━━━\u001b[0m\u001b[37m\u001b[0m \u001b[1m2s\u001b[0m 135ms/step - accuracy: 1.0000 - loss: 0.0046 - val_accuracy: 0.9600 - val_loss: 0.1051 - learning_rate: 2.0000e-04\n"
     ]
    }
   ],
   "source": [
    "print(\"Train padded shape:\", train_padded.shape) \n",
    "print(\"Training labels shape:\", training_label_seq.shape)  \n",
    "print(\"Unique labels in training data:\", np.unique(training_label_seq))  \n",
    "\n",
    "model = Sequential([\n",
    "    Embedding(input_dim=20000, output_dim=100, input_length=200),\n",
    "    Bidirectional(GRU(128)),  \n",
    "    Dropout(0.3),\n",
    "    Dense(9, activation='softmax')  \n",
    "   ])\n",
    "\n",
    "model.compile(loss='sparse_categorical_crossentropy', optimizer='adam', metrics=['accuracy'])\n",
    "\n",
    "\n",
    "reduce_lr = ReduceLROnPlateau(monitor='val_loss', factor=0.2, patience=5, min_lr=1e-6)\n",
    "early_stop = EarlyStopping(monitor='val_loss', patience=10, restore_best_weights=True)\n",
    "\n",
    "\n",
    "history = model.fit(train_padded, training_label_seq, epochs=50,\n",
    "                       validation_data=(validation_padded, validation_label_seq),\n",
    "                       callbacks=[reduce_lr, early_stop])\n",
    "   "
   ]
  },
  {
   "cell_type": "code",
   "execution_count": 22,
   "id": "fb7a02f8",
   "metadata": {},
   "outputs": [
    {
     "data": {
      "text/html": [
       "<div>\n",
       "<style scoped>\n",
       "    .dataframe tbody tr th:only-of-type {\n",
       "        vertical-align: middle;\n",
       "    }\n",
       "\n",
       "    .dataframe tbody tr th {\n",
       "        vertical-align: top;\n",
       "    }\n",
       "\n",
       "    .dataframe thead th {\n",
       "        text-align: right;\n",
       "    }\n",
       "</style>\n",
       "<table border=\"1\" class=\"dataframe\">\n",
       "  <thead>\n",
       "    <tr style=\"text-align: right;\">\n",
       "      <th></th>\n",
       "      <th>accuracy</th>\n",
       "      <th>loss</th>\n",
       "      <th>val_accuracy</th>\n",
       "      <th>val_loss</th>\n",
       "      <th>learning_rate</th>\n",
       "    </tr>\n",
       "  </thead>\n",
       "  <tbody>\n",
       "    <tr>\n",
       "      <th>0</th>\n",
       "      <td>0.2700</td>\n",
       "      <td>2.126511</td>\n",
       "      <td>0.37</td>\n",
       "      <td>2.000691</td>\n",
       "      <td>0.0010</td>\n",
       "    </tr>\n",
       "    <tr>\n",
       "      <th>1</th>\n",
       "      <td>0.3875</td>\n",
       "      <td>1.930497</td>\n",
       "      <td>0.45</td>\n",
       "      <td>1.770226</td>\n",
       "      <td>0.0010</td>\n",
       "    </tr>\n",
       "    <tr>\n",
       "      <th>2</th>\n",
       "      <td>0.4675</td>\n",
       "      <td>1.576592</td>\n",
       "      <td>0.52</td>\n",
       "      <td>1.266578</td>\n",
       "      <td>0.0010</td>\n",
       "    </tr>\n",
       "    <tr>\n",
       "      <th>3</th>\n",
       "      <td>0.6450</td>\n",
       "      <td>1.044869</td>\n",
       "      <td>0.70</td>\n",
       "      <td>0.877184</td>\n",
       "      <td>0.0010</td>\n",
       "    </tr>\n",
       "    <tr>\n",
       "      <th>4</th>\n",
       "      <td>0.8250</td>\n",
       "      <td>0.639289</td>\n",
       "      <td>0.80</td>\n",
       "      <td>0.564094</td>\n",
       "      <td>0.0010</td>\n",
       "    </tr>\n",
       "    <tr>\n",
       "      <th>5</th>\n",
       "      <td>0.9150</td>\n",
       "      <td>0.359542</td>\n",
       "      <td>0.84</td>\n",
       "      <td>0.443387</td>\n",
       "      <td>0.0010</td>\n",
       "    </tr>\n",
       "    <tr>\n",
       "      <th>6</th>\n",
       "      <td>0.9675</td>\n",
       "      <td>0.206211</td>\n",
       "      <td>0.92</td>\n",
       "      <td>0.291549</td>\n",
       "      <td>0.0010</td>\n",
       "    </tr>\n",
       "    <tr>\n",
       "      <th>7</th>\n",
       "      <td>0.9800</td>\n",
       "      <td>0.119522</td>\n",
       "      <td>0.92</td>\n",
       "      <td>0.234671</td>\n",
       "      <td>0.0010</td>\n",
       "    </tr>\n",
       "    <tr>\n",
       "      <th>8</th>\n",
       "      <td>0.9950</td>\n",
       "      <td>0.075944</td>\n",
       "      <td>0.93</td>\n",
       "      <td>0.206312</td>\n",
       "      <td>0.0010</td>\n",
       "    </tr>\n",
       "    <tr>\n",
       "      <th>9</th>\n",
       "      <td>0.9950</td>\n",
       "      <td>0.047718</td>\n",
       "      <td>0.93</td>\n",
       "      <td>0.167319</td>\n",
       "      <td>0.0010</td>\n",
       "    </tr>\n",
       "    <tr>\n",
       "      <th>10</th>\n",
       "      <td>0.9975</td>\n",
       "      <td>0.034874</td>\n",
       "      <td>0.95</td>\n",
       "      <td>0.148927</td>\n",
       "      <td>0.0010</td>\n",
       "    </tr>\n",
       "    <tr>\n",
       "      <th>11</th>\n",
       "      <td>0.9975</td>\n",
       "      <td>0.025581</td>\n",
       "      <td>0.94</td>\n",
       "      <td>0.122329</td>\n",
       "      <td>0.0010</td>\n",
       "    </tr>\n",
       "    <tr>\n",
       "      <th>12</th>\n",
       "      <td>1.0000</td>\n",
       "      <td>0.017870</td>\n",
       "      <td>0.95</td>\n",
       "      <td>0.116061</td>\n",
       "      <td>0.0010</td>\n",
       "    </tr>\n",
       "    <tr>\n",
       "      <th>13</th>\n",
       "      <td>1.0000</td>\n",
       "      <td>0.014619</td>\n",
       "      <td>0.95</td>\n",
       "      <td>0.138220</td>\n",
       "      <td>0.0010</td>\n",
       "    </tr>\n",
       "    <tr>\n",
       "      <th>14</th>\n",
       "      <td>1.0000</td>\n",
       "      <td>0.011673</td>\n",
       "      <td>0.96</td>\n",
       "      <td>0.108314</td>\n",
       "      <td>0.0010</td>\n",
       "    </tr>\n",
       "    <tr>\n",
       "      <th>15</th>\n",
       "      <td>1.0000</td>\n",
       "      <td>0.009406</td>\n",
       "      <td>0.96</td>\n",
       "      <td>0.094471</td>\n",
       "      <td>0.0010</td>\n",
       "    </tr>\n",
       "    <tr>\n",
       "      <th>16</th>\n",
       "      <td>1.0000</td>\n",
       "      <td>0.008752</td>\n",
       "      <td>0.96</td>\n",
       "      <td>0.108571</td>\n",
       "      <td>0.0010</td>\n",
       "    </tr>\n",
       "    <tr>\n",
       "      <th>17</th>\n",
       "      <td>1.0000</td>\n",
       "      <td>0.007659</td>\n",
       "      <td>0.96</td>\n",
       "      <td>0.112561</td>\n",
       "      <td>0.0010</td>\n",
       "    </tr>\n",
       "    <tr>\n",
       "      <th>18</th>\n",
       "      <td>1.0000</td>\n",
       "      <td>0.006325</td>\n",
       "      <td>0.96</td>\n",
       "      <td>0.104966</td>\n",
       "      <td>0.0010</td>\n",
       "    </tr>\n",
       "    <tr>\n",
       "      <th>19</th>\n",
       "      <td>1.0000</td>\n",
       "      <td>0.005400</td>\n",
       "      <td>0.96</td>\n",
       "      <td>0.097934</td>\n",
       "      <td>0.0010</td>\n",
       "    </tr>\n",
       "    <tr>\n",
       "      <th>20</th>\n",
       "      <td>1.0000</td>\n",
       "      <td>0.004290</td>\n",
       "      <td>0.95</td>\n",
       "      <td>0.115852</td>\n",
       "      <td>0.0010</td>\n",
       "    </tr>\n",
       "    <tr>\n",
       "      <th>21</th>\n",
       "      <td>1.0000</td>\n",
       "      <td>0.004731</td>\n",
       "      <td>0.96</td>\n",
       "      <td>0.107793</td>\n",
       "      <td>0.0002</td>\n",
       "    </tr>\n",
       "    <tr>\n",
       "      <th>22</th>\n",
       "      <td>1.0000</td>\n",
       "      <td>0.004327</td>\n",
       "      <td>0.96</td>\n",
       "      <td>0.104210</td>\n",
       "      <td>0.0002</td>\n",
       "    </tr>\n",
       "    <tr>\n",
       "      <th>23</th>\n",
       "      <td>1.0000</td>\n",
       "      <td>0.003788</td>\n",
       "      <td>0.96</td>\n",
       "      <td>0.107496</td>\n",
       "      <td>0.0002</td>\n",
       "    </tr>\n",
       "    <tr>\n",
       "      <th>24</th>\n",
       "      <td>1.0000</td>\n",
       "      <td>0.003895</td>\n",
       "      <td>0.96</td>\n",
       "      <td>0.108252</td>\n",
       "      <td>0.0002</td>\n",
       "    </tr>\n",
       "    <tr>\n",
       "      <th>25</th>\n",
       "      <td>1.0000</td>\n",
       "      <td>0.004429</td>\n",
       "      <td>0.96</td>\n",
       "      <td>0.105118</td>\n",
       "      <td>0.0002</td>\n",
       "    </tr>\n",
       "  </tbody>\n",
       "</table>\n",
       "</div>"
      ],
      "text/plain": [
       "    accuracy      loss  val_accuracy  val_loss  learning_rate\n",
       "0     0.2700  2.126511          0.37  2.000691         0.0010\n",
       "1     0.3875  1.930497          0.45  1.770226         0.0010\n",
       "2     0.4675  1.576592          0.52  1.266578         0.0010\n",
       "3     0.6450  1.044869          0.70  0.877184         0.0010\n",
       "4     0.8250  0.639289          0.80  0.564094         0.0010\n",
       "5     0.9150  0.359542          0.84  0.443387         0.0010\n",
       "6     0.9675  0.206211          0.92  0.291549         0.0010\n",
       "7     0.9800  0.119522          0.92  0.234671         0.0010\n",
       "8     0.9950  0.075944          0.93  0.206312         0.0010\n",
       "9     0.9950  0.047718          0.93  0.167319         0.0010\n",
       "10    0.9975  0.034874          0.95  0.148927         0.0010\n",
       "11    0.9975  0.025581          0.94  0.122329         0.0010\n",
       "12    1.0000  0.017870          0.95  0.116061         0.0010\n",
       "13    1.0000  0.014619          0.95  0.138220         0.0010\n",
       "14    1.0000  0.011673          0.96  0.108314         0.0010\n",
       "15    1.0000  0.009406          0.96  0.094471         0.0010\n",
       "16    1.0000  0.008752          0.96  0.108571         0.0010\n",
       "17    1.0000  0.007659          0.96  0.112561         0.0010\n",
       "18    1.0000  0.006325          0.96  0.104966         0.0010\n",
       "19    1.0000  0.005400          0.96  0.097934         0.0010\n",
       "20    1.0000  0.004290          0.95  0.115852         0.0010\n",
       "21    1.0000  0.004731          0.96  0.107793         0.0002\n",
       "22    1.0000  0.004327          0.96  0.104210         0.0002\n",
       "23    1.0000  0.003788          0.96  0.107496         0.0002\n",
       "24    1.0000  0.003895          0.96  0.108252         0.0002\n",
       "25    1.0000  0.004429          0.96  0.105118         0.0002"
      ]
     },
     "execution_count": 22,
     "metadata": {},
     "output_type": "execute_result"
    }
   ],
   "source": [
    "pd.DataFrame(history.history)\n"
   ]
  },
  {
   "cell_type": "code",
   "execution_count": 23,
   "id": "4f003caf",
   "metadata": {},
   "outputs": [
    {
     "data": {
      "image/png": "[encoded data removed]",
      "text/plain": [
       "<Figure size 640x480 with 1 Axes>"
      ]
     },
     "metadata": {},
     "output_type": "display_data"
    }
   ],
   "source": [
    "plt.plot(history.history['accuracy'])\n",
    "plt.plot(history.history['val_accuracy'])\n",
    "plt.title('model accuracy')\n",
    "plt.ylabel('accuracy')\n",
    "plt.xlabel('epoch')\n",
    "plt.legend(['train', 'test'], loc='upper left')\n",
    "plt.show()"
   ]
  },
  {
   "cell_type": "code",
   "execution_count": 24,
   "id": "0dbe7cbd",
   "metadata": {},
   "outputs": [
    {
     "data": {
      "image/png": "[encoded data removed]",
      "text/plain": [
       "<Figure size 640x480 with 1 Axes>"
      ]
     },
     "metadata": {},
     "output_type": "display_data"
    }
   ],
   "source": [
    "plt.plot(history.history['loss'])\n",
    "plt.plot(history.history['val_loss'])\n",
    "plt.title('model loss')\n",
    "plt.ylabel('loss')\n",
    "plt.xlabel('epoch')\n",
    "plt.legend(['train', 'test'], loc='upper left')\n",
    "plt.show()"
   ]
  },
  {
   "cell_type": "code",
   "execution_count": 25,
   "id": "8e1c2bed",
   "metadata": {},
   "outputs": [
    {
     "name": "stdout",
     "output_type": "stream",
     "text": [
      "\u001b[1m4/4\u001b[0m \u001b[32m━━━━━━━━━━━━━━━━━━━━\u001b[0m\u001b[37m\u001b[0m \u001b[1m1s\u001b[0m 159ms/step\n"
     ]
    }
   ],
   "source": [
    "y_pred=model.predict(validation_padded)"
   ]
  },
  {
   "cell_type": "code",
   "execution_count": 26,
   "id": "12142db4",
   "metadata": {},
   "outputs": [
    {
     "name": "stderr",
     "output_type": "stream",
     "text": [
      "100%|█████████████████████████████████████████████████████████████████████████████| 100/100 [00:00<00:00, 96442.95it/s]\n"
     ]
    },
    {
     "data": {
      "text/html": [
       "<div>\n",
       "<style scoped>\n",
       "    .dataframe tbody tr th:only-of-type {\n",
       "        vertical-align: middle;\n",
       "    }\n",
       "\n",
       "    .dataframe tbody tr th {\n",
       "        vertical-align: top;\n",
       "    }\n",
       "\n",
       "    .dataframe thead th {\n",
       "        text-align: right;\n",
       "    }\n",
       "</style>\n",
       "<table border=\"1\" class=\"dataframe\">\n",
       "  <thead>\n",
       "    <tr style=\"text-align: right;\">\n",
       "      <th></th>\n",
       "      <th>Prediction</th>\n",
       "      <th>actual</th>\n",
       "    </tr>\n",
       "  </thead>\n",
       "  <tbody>\n",
       "    <tr>\n",
       "      <th>0</th>\n",
       "      <td>0</td>\n",
       "      <td>0</td>\n",
       "    </tr>\n",
       "    <tr>\n",
       "      <th>1</th>\n",
       "      <td>6</td>\n",
       "      <td>6</td>\n",
       "    </tr>\n",
       "    <tr>\n",
       "      <th>2</th>\n",
       "      <td>2</td>\n",
       "      <td>2</td>\n",
       "    </tr>\n",
       "    <tr>\n",
       "      <th>3</th>\n",
       "      <td>1</td>\n",
       "      <td>1</td>\n",
       "    </tr>\n",
       "    <tr>\n",
       "      <th>4</th>\n",
       "      <td>0</td>\n",
       "      <td>0</td>\n",
       "    </tr>\n",
       "    <tr>\n",
       "      <th>...</th>\n",
       "      <td>...</td>\n",
       "      <td>...</td>\n",
       "    </tr>\n",
       "    <tr>\n",
       "      <th>95</th>\n",
       "      <td>8</td>\n",
       "      <td>8</td>\n",
       "    </tr>\n",
       "    <tr>\n",
       "      <th>96</th>\n",
       "      <td>3</td>\n",
       "      <td>3</td>\n",
       "    </tr>\n",
       "    <tr>\n",
       "      <th>97</th>\n",
       "      <td>0</td>\n",
       "      <td>0</td>\n",
       "    </tr>\n",
       "    <tr>\n",
       "      <th>98</th>\n",
       "      <td>0</td>\n",
       "      <td>8</td>\n",
       "    </tr>\n",
       "    <tr>\n",
       "      <th>99</th>\n",
       "      <td>1</td>\n",
       "      <td>1</td>\n",
       "    </tr>\n",
       "  </tbody>\n",
       "</table>\n",
       "<p>100 rows × 2 columns</p>\n",
       "</div>"
      ],
      "text/plain": [
       "    Prediction  actual\n",
       "0            0       0\n",
       "1            6       6\n",
       "2            2       2\n",
       "3            1       1\n",
       "4            0       0\n",
       "..         ...     ...\n",
       "95           8       8\n",
       "96           3       3\n",
       "97           0       0\n",
       "98           0       8\n",
       "99           1       1\n",
       "\n",
       "[100 rows x 2 columns]"
      ]
     },
     "execution_count": 26,
     "metadata": {},
     "output_type": "execute_result"
    }
   ],
   "source": [
    "pred=[np.argmax(i) for i in tqdm(y_pred)]\n",
    "df=pd.DataFrame()\n",
    "df['Prediction'],df['actual']=pred,validation_label_seq\n",
    "df"
   ]
  },
  {
   "cell_type": "code",
   "execution_count": 27,
   "id": "054f173f",
   "metadata": {},
   "outputs": [
    {
     "data": {
      "image/png": "[encoded data removed]",
      "text/plain": [
       "<Figure size 800x800 with 2 Axes>"
      ]
     },
     "metadata": {},
     "output_type": "display_data"
    },
    {
     "data": {
      "text/plain": [
       "array([[18,  0,  0,  0,  0,  0,  0,  0,  0],\n",
       "       [ 0, 10,  0,  0,  0,  0,  0,  0,  0],\n",
       "       [ 0,  0,  7,  0,  0,  0,  0,  0,  0],\n",
       "       [ 0,  0,  0,  5,  0,  0,  0,  0,  0],\n",
       "       [ 0,  0,  0,  0,  8,  0,  0,  0,  0],\n",
       "       [ 0,  0,  0,  0,  0,  5,  0,  0,  0],\n",
       "       [ 0,  0,  0,  0,  0,  0, 18,  0,  0],\n",
       "       [ 0,  0,  0,  0,  0,  0,  0, 10,  0],\n",
       "       [ 4,  0,  0,  0,  0,  0,  0,  0, 15]], dtype=int64)"
      ]
     },
     "execution_count": 27,
     "metadata": {},
     "output_type": "execute_result"
    }
   ],
   "source": [
    "CM = confusion_matrix(validation_label_seq,pred)\n",
    "plt.figure(figsize=(8,8))\n",
    "ax= plt.subplot()\n",
    "sns.heatmap(CM, center = True, fmt='g',ax=ax,annot=True,cmap='Blues_r')\n",
    "ax.set_xlabel('Predicted labels',fontsize=20)\n",
    "ax.set_ylabel('True labels',fontsize=20) \n",
    "ax.set_title('Confusion Matrix',fontsize=20)\n",
    "ax.xaxis.set_ticklabels(dict_.keys()) \n",
    "ax.yaxis.set_ticklabels(dict_.keys())\n",
    "plt.show()\n",
    "CM"
   ]
  },
  {
   "cell_type": "code",
   "execution_count": 28,
   "id": "c9a72dea",
   "metadata": {
    "scrolled": true
   },
   "outputs": [
    {
     "name": "stdout",
     "output_type": "stream",
     "text": [
      "\u001b[1m4/4\u001b[0m \u001b[32m━━━━━━━━━━━━━━━━━━━━\u001b[0m\u001b[37m\u001b[0m \u001b[1m0s\u001b[0m 61ms/step\n",
      "Predicted probabilities shape: (100, 9)\n",
      "Classification Report:n               precision    recall  f1-score   support\n",
      "\n",
      "           0       0.82      1.00      0.90        18\n",
      "           1       1.00      1.00      1.00        10\n",
      "           2       1.00      1.00      1.00         7\n",
      "           3       1.00      1.00      1.00         5\n",
      "           4       1.00      1.00      1.00         8\n",
      "           5       1.00      1.00      1.00         5\n",
      "           6       1.00      1.00      1.00        18\n",
      "           7       1.00      1.00      1.00        10\n",
      "           8       1.00      0.79      0.88        19\n",
      "\n",
      "    accuracy                           0.96       100\n",
      "   macro avg       0.98      0.98      0.98       100\n",
      "weighted avg       0.97      0.96      0.96       100\n",
      "\n",
      "ROC AUC Score: 0.9993409826885793\n",
      "Gini Coefficient: 0.9986819653771586\n",
      "Kolmogorov-Smirnov Statistic: 1.0\n",
      "Kolmogorov-Smirnov p-value: 1.5240289839832176e-07\n"
     ]
    }
   ],
   "source": [
    "pred_prob = model.predict(validation_padded)\n",
    "\n",
    "\n",
    "print(\"Predicted probabilities shape:\", pred_prob.shape)\n",
    "\n",
    "\n",
    "if len(pred_prob.shape) == 1:\n",
    "    pred_prob = np.expand_dims(pred_prob, axis=1)  \n",
    "\n",
    "\n",
    "if pred_prob.shape[1] == 1:\n",
    "    pred_prob = np.hstack([1 - pred_prob, pred_prob]) \n",
    "\n",
    "\n",
    "pred_labels = np.argmax(pred_prob, axis=1) \n",
    "\n",
    "\n",
    "classification_report_result = classification_report(validation_label_seq, pred_labels)\n",
    "print('Classification Report:n', classification_report_result)\n",
    "\n",
    "\n",
    "roc_auc = roc_auc_score(validation_label_seq, pred_prob, multi_class='ovr')  \n",
    "print('ROC AUC Score:', roc_auc)\n",
    "\n",
    "\n",
    "gini_coefficient = 2 * roc_auc - 1\n",
    "print('Gini Coefficient:', gini_coefficient)\n",
    "\n",
    "\n",
    "ks_statistic, ks_p_value = stats.ks_2samp(pred_prob[validation_label_seq == 0][:, 1], \n",
    "                                           pred_prob[validation_label_seq == 1][:, 1])\n",
    "print('Kolmogorov-Smirnov Statistic:', ks_statistic)\n",
    "print('Kolmogorov-Smirnov p-value:', ks_p_value)"
   ]
  },
  {
   "cell_type": "code",
   "execution_count": 29,
   "id": "c62f2a13",
   "metadata": {},
   "outputs": [],
   "source": [
    "def get_code(N):\n",
    "    for x,y in dict_.items():\n",
    "        if y==N:\n",
    "            return x"
   ]
  },
  {
   "cell_type": "code",
   "execution_count": 30,
   "id": "8522068b",
   "metadata": {},
   "outputs": [
    {
     "name": "stdout",
     "output_type": "stream",
     "text": [
      "\u001b[1m1/1\u001b[0m \u001b[32m━━━━━━━━━━━━━━━━━━━━\u001b[0m\u001b[37m\u001b[0m \u001b[1m0s\u001b[0m 48ms/step\n",
      "TAX\n"
     ]
    }
   ],
   "source": [
    "txt = ['Оплата штрафа']\n",
    "\n",
    "seq = tokenizer.texts_to_sequences(txt)\n",
    "padded = pad_sequences(seq, maxlen=max_length)\n",
    "pred = model.predict(padded)\n",
    "\n",
    "print(get_code(np.argmax(pred)))"
   ]
  },
  {
   "cell_type": "code",
   "execution_count": 31,
   "id": "ec1ef90e",
   "metadata": {},
   "outputs": [
    {
     "data": {
      "image/png": "[encoded data removed]",
      "text/plain": [
       "<Figure size 1000x600 with 1 Axes>"
      ]
     },
     "metadata": {},
     "output_type": "display_data"
    },
    {
     "name": "stdout",
     "output_type": "stream",
     "text": [
      "95% Confidence Interval for ROC AUC: [0.998, 1.000]\n"
     ]
    }
   ],
   "source": [
    "n_iterations = 10\n",
    "n_size = len(validation_label_seq) \n",
    "\n",
    "\n",
    "bootstrapped_roc_aucs = []\n",
    "\n",
    "\n",
    "for i in range(n_iterations):\n",
    "    indices = resample(range(n_size), n_samples=n_size)\n",
    "    y_true_bs = validation_label_seq[indices]\n",
    "    y_prob_bs = pred_prob[indices]\n",
    "\n",
    "    unique_classes = np.unique(y_true_bs)\n",
    "\n",
    "    if len(unique_classes) == 2: \n",
    "        roc_auc_bs = roc_auc_score(y_true_bs, y_prob_bs[:, 1])  \n",
    "    else:  \n",
    "        if len(unique_classes) != y_prob_bs.shape[1]:\n",
    "            raise ValueError(\"Number of classes in y_true not equal to the number of columns in 'y_prob'\")\n",
    "        roc_auc_bs = roc_auc_score(y_true_bs, y_prob_bs, multi_class='ovr')\n",
    "    \n",
    "    bootstrapped_roc_aucs.append(roc_auc_bs)\n",
    "\n",
    "\n",
    "bootstrapped_roc_aucs = np.array(bootstrapped_roc_aucs)\n",
    "\n",
    "\n",
    "lower_bound = np.percentile(bootstrapped_roc_aucs, 2.5)\n",
    "upper_bound = np.percentile(bootstrapped_roc_aucs, 97.5)\n",
    "\n",
    "\n",
    "plt.figure(figsize=(10, 6))\n",
    "plt.boxplot(bootstrapped_roc_aucs)\n",
    "plt.axvline(lower_bound, color='red', linestyle='dashed', linewidth=2, label=f'2.5%: {lower_bound:.3f}')\n",
    "plt.axvline(upper_bound, color='green', linestyle='dashed', linewidth=2, label=f'97.5%: {upper_bound:.3f}')\n",
    "plt.axvline(np.mean(bootstrapped_roc_aucs), color='orange', linestyle='dashed', linewidth=2, label=f'Mean: {np.mean(bootstrapped_roc_aucs):.3f}')\n",
    "\n",
    "plt.title('Bootstrapped Distribution of ROC AUC')\n",
    "plt.xlabel('ROC AUC')\n",
    "plt.ylabel('Frequency')\n",
    "plt.legend()\n",
    "plt.grid()\n",
    "plt.show()\n",
    "\n",
    "print(f'95% Confidence Interval for ROC AUC: [{lower_bound:.3f}, {upper_bound:.3f}]')\n"
   ]
  },
  {
   "cell_type": "code",
   "execution_count": null,
   "id": "44205835",
   "metadata": {},
   "outputs": [],
   "source": []
  },
  {
   "cell_type": "code",
   "execution_count": null,
   "id": "71b0f6c7",
   "metadata": {},
   "outputs": [],
   "source": []
  }
 ],
 "metadata": {
  "kernelspec": {
   "display_name": "Python 3 (ipykernel)",
   "language": "python",
   "name": "python3"
  },
  "language_info": {
   "codemirror_mode": {
    "name": "ipython",
    "version": 3
   },
   "file_extension": ".py",
   "mimetype": "text/x-python",
   "name": "python",
   "nbconvert_exporter": "python",
   "pygments_lexer": "ipython3",
   "version": "3.10.9"
  }
 },
 "nbformat": 4,
 "nbformat_minor": 5
}
